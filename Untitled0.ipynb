{
  "cells": [
    {
      "cell_type": "markdown",
      "metadata": {
        "id": "view-in-github",
        "colab_type": "text"
      },
      "source": [
        "<a href=\"https://colab.research.google.com/github/aaditibisht805/Personalized-Medication-and-Lifestyle-Companion/blob/main/Untitled0.ipynb\" target=\"_parent\"><img src=\"https://colab.research.google.com/assets/colab-badge.svg\" alt=\"Open In Colab\"/></a>"
      ]
    },
    {
      "cell_type": "code",
      "execution_count": null,
      "metadata": {
        "colab": {
          "base_uri": "https://localhost:8080/"
        },
        "collapsed": true,
        "id": "j4UCDws-Quqi",
        "outputId": "e705c9f2-e1a2-459f-8768-51890d6c8fcb"
      },
      "outputs": [
        {
          "output_type": "stream",
          "name": "stdout",
          "text": [
            "Downloading from https://www.kaggle.com/api/v1/datasets/download/ismetsemedov/transactions?dataset_version_number=1...\n"
          ]
        },
        {
          "output_type": "stream",
          "name": "stderr",
          "text": [
            "100%|██████████| 754M/754M [00:13<00:00, 58.3MB/s]"
          ]
        },
        {
          "output_type": "stream",
          "name": "stdout",
          "text": [
            "Extracting files...\n"
          ]
        },
        {
          "output_type": "stream",
          "name": "stderr",
          "text": [
            "\n"
          ]
        },
        {
          "output_type": "stream",
          "name": "stdout",
          "text": [
            "Path to dataset files: /root/.cache/kagglehub/datasets/ismetsemedov/transactions/versions/1\n"
          ]
        }
      ],
      "source": [
        "import kagglehub\n",
        "\n",
        "# Download latest version\n",
        "path = kagglehub.dataset_download(\"ismetsemedov/transactions\")\n",
        "\n",
        "print(\"Path to dataset files:\", path)"
      ]
    },
    {
      "cell_type": "code",
      "execution_count": null,
      "metadata": {
        "colab": {
          "base_uri": "https://localhost:8080/"
        },
        "collapsed": true,
        "id": "nZ8J7NsRWJvt",
        "outputId": "b3234090-cd1c-40bc-d584-9aba23c1ca8f"
      },
      "outputs": [
        {
          "output_type": "stream",
          "name": "stdout",
          "text": [
            "Path to dataset files: /root/.cache/kagglehub/datasets/ismetsemedov/transactions/versions/1\n",
            "Files in the downloaded directory: ['synthetic_fraud_data.csv']\n",
            "Loaded CSV from /root/.cache/kagglehub/datasets/ismetsemedov/transactions/versions/1/synthetic_fraud_data.csv. Here's the first 5 rows:\n",
            "  transaction_id customer_id       card_number  \\\n",
            "0    TX_a0ad2a2a  CUST_72886  6646734767813109   \n",
            "1    TX_3599c101  CUST_70474   376800864692727   \n",
            "2    TX_a9461c6d  CUST_10715  5251909460951913   \n",
            "3    TX_7be21fc4  CUST_16193   376079286931183   \n",
            "4    TX_150f490b  CUST_87572  6172948052178810   \n",
            "5    TX_7fb62ea6  CUST_55630  6771346275824473   \n",
            "6    TX_e0d7eb37  CUST_89147   371305533183152   \n",
            "7    TX_eb55c2be  CUST_10150  5927166525373625   \n",
            "8    TX_eb63010a  CUST_83143  5029335992770061   \n",
            "9    TX_b0cd71e2  CUST_35022  4412911822339760   \n",
            "\n",
            "                          timestamp merchant_category merchant_type  \\\n",
            "0  2024-09-30 00:00:01.034820+00:00        Restaurant     fast_food   \n",
            "1  2024-09-30 00:00:01.764464+00:00     Entertainment        gaming   \n",
            "2  2024-09-30 00:00:02.273762+00:00           Grocery      physical   \n",
            "3  2024-09-30 00:00:02.297466+00:00               Gas         major   \n",
            "4  2024-09-30 00:00:02.544063+00:00        Healthcare       medical   \n",
            "5  2024-09-30 00:00:03.050458+00:00         Education        online   \n",
            "6  2024-09-30 00:00:03.149440+00:00           Grocery        online   \n",
            "7  2024-09-30 00:00:06.295911+00:00            Travel        hotels   \n",
            "8  2024-09-30 00:00:06.813965+00:00        Healthcare       medical   \n",
            "9  2024-09-30 00:00:07.105592+00:00            Retail        online   \n",
            "\n",
            "         merchant     amount currency    country  ...       device channel  \\\n",
            "0       Taco Bell     294.87      GBP         UK  ...      iOS App  mobile   \n",
            "1           Steam    3368.97      BRL     Brazil  ...         Edge     web   \n",
            "2     Whole Foods  102582.38      JPY      Japan  ...      Firefox     web   \n",
            "3           Exxon     630.60      AUD  Australia  ...      iOS App  mobile   \n",
            "4  Medical Center  724949.27      NGN    Nigeria  ...       Chrome     web   \n",
            "5        Coursera      11.76      BRL     Brazil  ...       Chrome     web   \n",
            "6       Instacart    2606.19      BRL     Brazil  ...  Android App  mobile   \n",
            "7          Westin     828.33      EUR    Germany  ...         Edge     web   \n",
            "8  Medical Center  104921.00      NGN    Nigeria  ...         Edge     web   \n",
            "9            eBay   51521.84      MXN     Mexico  ...  NFC Payment     pos   \n",
            "\n",
            "                 device_fingerprint       ip_address distance_from_home  \\\n",
            "0  e8e6160445c935fd0001501e4cbac8bc   197.153.60.199                  0   \n",
            "1  a73043a57091e775af37f252b3a32af9  208.123.221.203                  1   \n",
            "2  218864e94ceaa41577d216b149722261   10.194.159.204                  0   \n",
            "3  70423fa3a1e74d01203cf93b51b9631d   17.230.177.225                  0   \n",
            "4  9880776c7b6038f2af86bd4e18a1b1a4  136.241.219.151                  1   \n",
            "5  f79b73f19703d83fbfc2736f24cb108c    184.56.130.84                  1   \n",
            "6  20464622be96fda2c75ee7d3698c004d  163.189.239.227                  0   \n",
            "7  170a1d12ba71772366076fd302fe29ca   122.115.119.11                  0   \n",
            "8  44a2dde7b410ab3f71344022d1940d4b   103.121.115.91                  0   \n",
            "9  fbff6151bf7ab2d768a4646aad2cc5b2      3.35.80.156                  1   \n",
            "\n",
            "  high_risk_merchant transaction_hour weekend_transaction  \\\n",
            "0              False                0               False   \n",
            "1               True                0               False   \n",
            "2              False                0               False   \n",
            "3              False                0               False   \n",
            "4              False                0               False   \n",
            "5              False                0               False   \n",
            "6              False                0               False   \n",
            "7               True                0               False   \n",
            "8              False                0               False   \n",
            "9              False                0               False   \n",
            "\n",
            "                                  velocity_last_hour  is_fraud  \n",
            "0  {'num_transactions': 1197, 'total_amount': 334...     False  \n",
            "1  {'num_transactions': 509, 'total_amount': 2011...      True  \n",
            "2  {'num_transactions': 332, 'total_amount': 3916...     False  \n",
            "3  {'num_transactions': 764, 'total_amount': 2201...     False  \n",
            "4  {'num_transactions': 218, 'total_amount': 4827...      True  \n",
            "5  {'num_transactions': 1130, 'total_amount': 695...      True  \n",
            "6  {'num_transactions': 1392, 'total_amount': 607...     False  \n",
            "7  {'num_transactions': 352, 'total_amount': 8690...     False  \n",
            "8  {'num_transactions': 618, 'total_amount': 7840...     False  \n",
            "9  {'num_transactions': 723, 'total_amount': 1446...      True  \n",
            "\n",
            "[10 rows x 24 columns]\n"
          ]
        }
      ],
      "source": [
        "import kagglehub\n",
        "import os\n",
        "import pandas as pd\n",
        "\n",
        "# Step 1: Download the dataset using kagglehub\n",
        "path = kagglehub.dataset_download(\"ismetsemedov/transactions\")\n",
        "print(\"Path to dataset files:\", path)\n",
        "\n",
        "# Step 2: List all files in the downloaded directory\n",
        "extracted_files = os.listdir(path)\n",
        "print(\"Files in the downloaded directory:\", extracted_files)\n",
        "\n",
        "# Step 3: Look for the CSV file (typically it should have a .csv extension)\n",
        "csv_file = None\n",
        "for file in extracted_files:\n",
        "    if file.endswith('.csv'):  # Look for CSV files\n",
        "        csv_file = os.path.join(path, file)\n",
        "        break  # Stop once the first CSV file is found\n",
        "\n",
        "# Step 4: Load the CSV file into a pandas DataFrame and print the first 5 rows\n",
        "if csv_file:\n",
        "    df = pd.read_csv(csv_file)\n",
        "    print(f\"Loaded CSV from {csv_file}. Here's the first 5 rows:\")\n",
        "    print(df.head(10))\n",
        "else:\n",
        "    print(\"No CSV file found in the extracted folder.\")"
      ]
    },
    {
      "cell_type": "code",
      "source": [],
      "metadata": {
        "id": "UEOVTDiZ5L59"
      },
      "execution_count": null,
      "outputs": []
    },
    {
      "cell_type": "code",
      "execution_count": null,
      "metadata": {
        "id": "XH3YLZGcAgmD",
        "colab": {
          "base_uri": "https://localhost:8080/"
        },
        "outputId": "c23ba1fd-e1ed-4871-e7d7-71f8de460c84"
      },
      "outputs": [
        {
          "output_type": "stream",
          "name": "stdout",
          "text": [
            "Index(['transaction_id', 'customer_id', 'card_number', 'timestamp',\n",
            "       'merchant_category', 'merchant_type', 'merchant', 'amount', 'currency',\n",
            "       'country', 'city', 'city_size', 'card_type', 'card_present', 'device',\n",
            "       'channel', 'device_fingerprint', 'ip_address', 'distance_from_home',\n",
            "       'high_risk_merchant', 'transaction_hour', 'weekend_transaction',\n",
            "       'velocity_last_hour', 'is_fraud'],\n",
            "      dtype='object')\n"
          ]
        }
      ],
      "source": [
        "print(df.columns)"
      ]
    },
    {
      "cell_type": "code",
      "execution_count": null,
      "metadata": {
        "id": "bpQtNsvmBmdH"
      },
      "outputs": [],
      "source": [
        "columns_to_drop = ['city', 'city_size','transaction_hour','weekend_transaction']\n",
        "df = df.drop(columns=columns_to_drop)"
      ]
    },
    {
      "cell_type": "code",
      "execution_count": null,
      "metadata": {
        "id": "nJzLa2_svbXz",
        "colab": {
          "base_uri": "https://localhost:8080/",
          "height": 399
        },
        "outputId": "d3114494-b3e1-4cd3-ecc2-ecf5a603c75e",
        "collapsed": true
      },
      "outputs": [
        {
          "output_type": "execute_result",
          "data": {
            "text/plain": [
              "  transaction_id customer_id       card_number  \\\n",
              "0    TX_a0ad2a2a  CUST_72886  6646734767813109   \n",
              "1    TX_3599c101  CUST_70474   376800864692727   \n",
              "2    TX_a9461c6d  CUST_10715  5251909460951913   \n",
              "3    TX_7be21fc4  CUST_16193   376079286931183   \n",
              "4    TX_150f490b  CUST_87572  6172948052178810   \n",
              "\n",
              "                          timestamp merchant_category merchant_type  \\\n",
              "0  2024-09-30 00:00:01.034820+00:00        Restaurant     fast_food   \n",
              "1  2024-09-30 00:00:01.764464+00:00     Entertainment        gaming   \n",
              "2  2024-09-30 00:00:02.273762+00:00           Grocery      physical   \n",
              "3  2024-09-30 00:00:02.297466+00:00               Gas         major   \n",
              "4  2024-09-30 00:00:02.544063+00:00        Healthcare       medical   \n",
              "\n",
              "         merchant     amount currency    country        card_type  \\\n",
              "0       Taco Bell     294.87      GBP         UK  Platinum Credit   \n",
              "1           Steam    3368.97      BRL     Brazil  Platinum Credit   \n",
              "2     Whole Foods  102582.38      JPY      Japan  Platinum Credit   \n",
              "3           Exxon     630.60      AUD  Australia    Premium Debit   \n",
              "4  Medical Center  724949.27      NGN    Nigeria      Basic Debit   \n",
              "\n",
              "   card_present   device channel                device_fingerprint  \\\n",
              "0         False  iOS App  mobile  e8e6160445c935fd0001501e4cbac8bc   \n",
              "1         False     Edge     web  a73043a57091e775af37f252b3a32af9   \n",
              "2         False  Firefox     web  218864e94ceaa41577d216b149722261   \n",
              "3         False  iOS App  mobile  70423fa3a1e74d01203cf93b51b9631d   \n",
              "4         False   Chrome     web  9880776c7b6038f2af86bd4e18a1b1a4   \n",
              "\n",
              "        ip_address  distance_from_home  high_risk_merchant  \\\n",
              "0   197.153.60.199                   0               False   \n",
              "1  208.123.221.203                   1                True   \n",
              "2   10.194.159.204                   0               False   \n",
              "3   17.230.177.225                   0               False   \n",
              "4  136.241.219.151                   1               False   \n",
              "\n",
              "                                  velocity_last_hour  is_fraud  \n",
              "0  {'num_transactions': 1197, 'total_amount': 334...     False  \n",
              "1  {'num_transactions': 509, 'total_amount': 2011...      True  \n",
              "2  {'num_transactions': 332, 'total_amount': 3916...     False  \n",
              "3  {'num_transactions': 764, 'total_amount': 2201...     False  \n",
              "4  {'num_transactions': 218, 'total_amount': 4827...      True  "
            ],
            "text/html": [
              "\n",
              "  <div id=\"df-9b0ca5f6-20ce-4067-9b81-6cea928dcb8e\" class=\"colab-df-container\">\n",
              "    <div>\n",
              "<style scoped>\n",
              "    .dataframe tbody tr th:only-of-type {\n",
              "        vertical-align: middle;\n",
              "    }\n",
              "\n",
              "    .dataframe tbody tr th {\n",
              "        vertical-align: top;\n",
              "    }\n",
              "\n",
              "    .dataframe thead th {\n",
              "        text-align: right;\n",
              "    }\n",
              "</style>\n",
              "<table border=\"1\" class=\"dataframe\">\n",
              "  <thead>\n",
              "    <tr style=\"text-align: right;\">\n",
              "      <th></th>\n",
              "      <th>transaction_id</th>\n",
              "      <th>customer_id</th>\n",
              "      <th>card_number</th>\n",
              "      <th>timestamp</th>\n",
              "      <th>merchant_category</th>\n",
              "      <th>merchant_type</th>\n",
              "      <th>merchant</th>\n",
              "      <th>amount</th>\n",
              "      <th>currency</th>\n",
              "      <th>country</th>\n",
              "      <th>card_type</th>\n",
              "      <th>card_present</th>\n",
              "      <th>device</th>\n",
              "      <th>channel</th>\n",
              "      <th>device_fingerprint</th>\n",
              "      <th>ip_address</th>\n",
              "      <th>distance_from_home</th>\n",
              "      <th>high_risk_merchant</th>\n",
              "      <th>velocity_last_hour</th>\n",
              "      <th>is_fraud</th>\n",
              "    </tr>\n",
              "  </thead>\n",
              "  <tbody>\n",
              "    <tr>\n",
              "      <th>0</th>\n",
              "      <td>TX_a0ad2a2a</td>\n",
              "      <td>CUST_72886</td>\n",
              "      <td>6646734767813109</td>\n",
              "      <td>2024-09-30 00:00:01.034820+00:00</td>\n",
              "      <td>Restaurant</td>\n",
              "      <td>fast_food</td>\n",
              "      <td>Taco Bell</td>\n",
              "      <td>294.87</td>\n",
              "      <td>GBP</td>\n",
              "      <td>UK</td>\n",
              "      <td>Platinum Credit</td>\n",
              "      <td>False</td>\n",
              "      <td>iOS App</td>\n",
              "      <td>mobile</td>\n",
              "      <td>e8e6160445c935fd0001501e4cbac8bc</td>\n",
              "      <td>197.153.60.199</td>\n",
              "      <td>0</td>\n",
              "      <td>False</td>\n",
              "      <td>{'num_transactions': 1197, 'total_amount': 334...</td>\n",
              "      <td>False</td>\n",
              "    </tr>\n",
              "    <tr>\n",
              "      <th>1</th>\n",
              "      <td>TX_3599c101</td>\n",
              "      <td>CUST_70474</td>\n",
              "      <td>376800864692727</td>\n",
              "      <td>2024-09-30 00:00:01.764464+00:00</td>\n",
              "      <td>Entertainment</td>\n",
              "      <td>gaming</td>\n",
              "      <td>Steam</td>\n",
              "      <td>3368.97</td>\n",
              "      <td>BRL</td>\n",
              "      <td>Brazil</td>\n",
              "      <td>Platinum Credit</td>\n",
              "      <td>False</td>\n",
              "      <td>Edge</td>\n",
              "      <td>web</td>\n",
              "      <td>a73043a57091e775af37f252b3a32af9</td>\n",
              "      <td>208.123.221.203</td>\n",
              "      <td>1</td>\n",
              "      <td>True</td>\n",
              "      <td>{'num_transactions': 509, 'total_amount': 2011...</td>\n",
              "      <td>True</td>\n",
              "    </tr>\n",
              "    <tr>\n",
              "      <th>2</th>\n",
              "      <td>TX_a9461c6d</td>\n",
              "      <td>CUST_10715</td>\n",
              "      <td>5251909460951913</td>\n",
              "      <td>2024-09-30 00:00:02.273762+00:00</td>\n",
              "      <td>Grocery</td>\n",
              "      <td>physical</td>\n",
              "      <td>Whole Foods</td>\n",
              "      <td>102582.38</td>\n",
              "      <td>JPY</td>\n",
              "      <td>Japan</td>\n",
              "      <td>Platinum Credit</td>\n",
              "      <td>False</td>\n",
              "      <td>Firefox</td>\n",
              "      <td>web</td>\n",
              "      <td>218864e94ceaa41577d216b149722261</td>\n",
              "      <td>10.194.159.204</td>\n",
              "      <td>0</td>\n",
              "      <td>False</td>\n",
              "      <td>{'num_transactions': 332, 'total_amount': 3916...</td>\n",
              "      <td>False</td>\n",
              "    </tr>\n",
              "    <tr>\n",
              "      <th>3</th>\n",
              "      <td>TX_7be21fc4</td>\n",
              "      <td>CUST_16193</td>\n",
              "      <td>376079286931183</td>\n",
              "      <td>2024-09-30 00:00:02.297466+00:00</td>\n",
              "      <td>Gas</td>\n",
              "      <td>major</td>\n",
              "      <td>Exxon</td>\n",
              "      <td>630.60</td>\n",
              "      <td>AUD</td>\n",
              "      <td>Australia</td>\n",
              "      <td>Premium Debit</td>\n",
              "      <td>False</td>\n",
              "      <td>iOS App</td>\n",
              "      <td>mobile</td>\n",
              "      <td>70423fa3a1e74d01203cf93b51b9631d</td>\n",
              "      <td>17.230.177.225</td>\n",
              "      <td>0</td>\n",
              "      <td>False</td>\n",
              "      <td>{'num_transactions': 764, 'total_amount': 2201...</td>\n",
              "      <td>False</td>\n",
              "    </tr>\n",
              "    <tr>\n",
              "      <th>4</th>\n",
              "      <td>TX_150f490b</td>\n",
              "      <td>CUST_87572</td>\n",
              "      <td>6172948052178810</td>\n",
              "      <td>2024-09-30 00:00:02.544063+00:00</td>\n",
              "      <td>Healthcare</td>\n",
              "      <td>medical</td>\n",
              "      <td>Medical Center</td>\n",
              "      <td>724949.27</td>\n",
              "      <td>NGN</td>\n",
              "      <td>Nigeria</td>\n",
              "      <td>Basic Debit</td>\n",
              "      <td>False</td>\n",
              "      <td>Chrome</td>\n",
              "      <td>web</td>\n",
              "      <td>9880776c7b6038f2af86bd4e18a1b1a4</td>\n",
              "      <td>136.241.219.151</td>\n",
              "      <td>1</td>\n",
              "      <td>False</td>\n",
              "      <td>{'num_transactions': 218, 'total_amount': 4827...</td>\n",
              "      <td>True</td>\n",
              "    </tr>\n",
              "  </tbody>\n",
              "</table>\n",
              "</div>\n",
              "    <div class=\"colab-df-buttons\">\n",
              "\n",
              "  <div class=\"colab-df-container\">\n",
              "    <button class=\"colab-df-convert\" onclick=\"convertToInteractive('df-9b0ca5f6-20ce-4067-9b81-6cea928dcb8e')\"\n",
              "            title=\"Convert this dataframe to an interactive table.\"\n",
              "            style=\"display:none;\">\n",
              "\n",
              "  <svg xmlns=\"http://www.w3.org/2000/svg\" height=\"24px\" viewBox=\"0 -960 960 960\">\n",
              "    <path d=\"M120-120v-720h720v720H120Zm60-500h600v-160H180v160Zm220 220h160v-160H400v160Zm0 220h160v-160H400v160ZM180-400h160v-160H180v160Zm440 0h160v-160H620v160ZM180-180h160v-160H180v160Zm440 0h160v-160H620v160Z\"/>\n",
              "  </svg>\n",
              "    </button>\n",
              "\n",
              "  <style>\n",
              "    .colab-df-container {\n",
              "      display:flex;\n",
              "      gap: 12px;\n",
              "    }\n",
              "\n",
              "    .colab-df-convert {\n",
              "      background-color: #E8F0FE;\n",
              "      border: none;\n",
              "      border-radius: 50%;\n",
              "      cursor: pointer;\n",
              "      display: none;\n",
              "      fill: #1967D2;\n",
              "      height: 32px;\n",
              "      padding: 0 0 0 0;\n",
              "      width: 32px;\n",
              "    }\n",
              "\n",
              "    .colab-df-convert:hover {\n",
              "      background-color: #E2EBFA;\n",
              "      box-shadow: 0px 1px 2px rgba(60, 64, 67, 0.3), 0px 1px 3px 1px rgba(60, 64, 67, 0.15);\n",
              "      fill: #174EA6;\n",
              "    }\n",
              "\n",
              "    .colab-df-buttons div {\n",
              "      margin-bottom: 4px;\n",
              "    }\n",
              "\n",
              "    [theme=dark] .colab-df-convert {\n",
              "      background-color: #3B4455;\n",
              "      fill: #D2E3FC;\n",
              "    }\n",
              "\n",
              "    [theme=dark] .colab-df-convert:hover {\n",
              "      background-color: #434B5C;\n",
              "      box-shadow: 0px 1px 3px 1px rgba(0, 0, 0, 0.15);\n",
              "      filter: drop-shadow(0px 1px 2px rgba(0, 0, 0, 0.3));\n",
              "      fill: #FFFFFF;\n",
              "    }\n",
              "  </style>\n",
              "\n",
              "    <script>\n",
              "      const buttonEl =\n",
              "        document.querySelector('#df-9b0ca5f6-20ce-4067-9b81-6cea928dcb8e button.colab-df-convert');\n",
              "      buttonEl.style.display =\n",
              "        google.colab.kernel.accessAllowed ? 'block' : 'none';\n",
              "\n",
              "      async function convertToInteractive(key) {\n",
              "        const element = document.querySelector('#df-9b0ca5f6-20ce-4067-9b81-6cea928dcb8e');\n",
              "        const dataTable =\n",
              "          await google.colab.kernel.invokeFunction('convertToInteractive',\n",
              "                                                    [key], {});\n",
              "        if (!dataTable) return;\n",
              "\n",
              "        const docLinkHtml = 'Like what you see? Visit the ' +\n",
              "          '<a target=\"_blank\" href=https://colab.research.google.com/notebooks/data_table.ipynb>data table notebook</a>'\n",
              "          + ' to learn more about interactive tables.';\n",
              "        element.innerHTML = '';\n",
              "        dataTable['output_type'] = 'display_data';\n",
              "        await google.colab.output.renderOutput(dataTable, element);\n",
              "        const docLink = document.createElement('div');\n",
              "        docLink.innerHTML = docLinkHtml;\n",
              "        element.appendChild(docLink);\n",
              "      }\n",
              "    </script>\n",
              "  </div>\n",
              "\n",
              "\n",
              "<div id=\"df-41058068-7b1b-4c96-97f9-c79d479f66cc\">\n",
              "  <button class=\"colab-df-quickchart\" onclick=\"quickchart('df-41058068-7b1b-4c96-97f9-c79d479f66cc')\"\n",
              "            title=\"Suggest charts\"\n",
              "            style=\"display:none;\">\n",
              "\n",
              "<svg xmlns=\"http://www.w3.org/2000/svg\" height=\"24px\"viewBox=\"0 0 24 24\"\n",
              "     width=\"24px\">\n",
              "    <g>\n",
              "        <path d=\"M19 3H5c-1.1 0-2 .9-2 2v14c0 1.1.9 2 2 2h14c1.1 0 2-.9 2-2V5c0-1.1-.9-2-2-2zM9 17H7v-7h2v7zm4 0h-2V7h2v10zm4 0h-2v-4h2v4z\"/>\n",
              "    </g>\n",
              "</svg>\n",
              "  </button>\n",
              "\n",
              "<style>\n",
              "  .colab-df-quickchart {\n",
              "      --bg-color: #E8F0FE;\n",
              "      --fill-color: #1967D2;\n",
              "      --hover-bg-color: #E2EBFA;\n",
              "      --hover-fill-color: #174EA6;\n",
              "      --disabled-fill-color: #AAA;\n",
              "      --disabled-bg-color: #DDD;\n",
              "  }\n",
              "\n",
              "  [theme=dark] .colab-df-quickchart {\n",
              "      --bg-color: #3B4455;\n",
              "      --fill-color: #D2E3FC;\n",
              "      --hover-bg-color: #434B5C;\n",
              "      --hover-fill-color: #FFFFFF;\n",
              "      --disabled-bg-color: #3B4455;\n",
              "      --disabled-fill-color: #666;\n",
              "  }\n",
              "\n",
              "  .colab-df-quickchart {\n",
              "    background-color: var(--bg-color);\n",
              "    border: none;\n",
              "    border-radius: 50%;\n",
              "    cursor: pointer;\n",
              "    display: none;\n",
              "    fill: var(--fill-color);\n",
              "    height: 32px;\n",
              "    padding: 0;\n",
              "    width: 32px;\n",
              "  }\n",
              "\n",
              "  .colab-df-quickchart:hover {\n",
              "    background-color: var(--hover-bg-color);\n",
              "    box-shadow: 0 1px 2px rgba(60, 64, 67, 0.3), 0 1px 3px 1px rgba(60, 64, 67, 0.15);\n",
              "    fill: var(--button-hover-fill-color);\n",
              "  }\n",
              "\n",
              "  .colab-df-quickchart-complete:disabled,\n",
              "  .colab-df-quickchart-complete:disabled:hover {\n",
              "    background-color: var(--disabled-bg-color);\n",
              "    fill: var(--disabled-fill-color);\n",
              "    box-shadow: none;\n",
              "  }\n",
              "\n",
              "  .colab-df-spinner {\n",
              "    border: 2px solid var(--fill-color);\n",
              "    border-color: transparent;\n",
              "    border-bottom-color: var(--fill-color);\n",
              "    animation:\n",
              "      spin 1s steps(1) infinite;\n",
              "  }\n",
              "\n",
              "  @keyframes spin {\n",
              "    0% {\n",
              "      border-color: transparent;\n",
              "      border-bottom-color: var(--fill-color);\n",
              "      border-left-color: var(--fill-color);\n",
              "    }\n",
              "    20% {\n",
              "      border-color: transparent;\n",
              "      border-left-color: var(--fill-color);\n",
              "      border-top-color: var(--fill-color);\n",
              "    }\n",
              "    30% {\n",
              "      border-color: transparent;\n",
              "      border-left-color: var(--fill-color);\n",
              "      border-top-color: var(--fill-color);\n",
              "      border-right-color: var(--fill-color);\n",
              "    }\n",
              "    40% {\n",
              "      border-color: transparent;\n",
              "      border-right-color: var(--fill-color);\n",
              "      border-top-color: var(--fill-color);\n",
              "    }\n",
              "    60% {\n",
              "      border-color: transparent;\n",
              "      border-right-color: var(--fill-color);\n",
              "    }\n",
              "    80% {\n",
              "      border-color: transparent;\n",
              "      border-right-color: var(--fill-color);\n",
              "      border-bottom-color: var(--fill-color);\n",
              "    }\n",
              "    90% {\n",
              "      border-color: transparent;\n",
              "      border-bottom-color: var(--fill-color);\n",
              "    }\n",
              "  }\n",
              "</style>\n",
              "\n",
              "  <script>\n",
              "    async function quickchart(key) {\n",
              "      const quickchartButtonEl =\n",
              "        document.querySelector('#' + key + ' button');\n",
              "      quickchartButtonEl.disabled = true;  // To prevent multiple clicks.\n",
              "      quickchartButtonEl.classList.add('colab-df-spinner');\n",
              "      try {\n",
              "        const charts = await google.colab.kernel.invokeFunction(\n",
              "            'suggestCharts', [key], {});\n",
              "      } catch (error) {\n",
              "        console.error('Error during call to suggestCharts:', error);\n",
              "      }\n",
              "      quickchartButtonEl.classList.remove('colab-df-spinner');\n",
              "      quickchartButtonEl.classList.add('colab-df-quickchart-complete');\n",
              "    }\n",
              "    (() => {\n",
              "      let quickchartButtonEl =\n",
              "        document.querySelector('#df-41058068-7b1b-4c96-97f9-c79d479f66cc button');\n",
              "      quickchartButtonEl.style.display =\n",
              "        google.colab.kernel.accessAllowed ? 'block' : 'none';\n",
              "    })();\n",
              "  </script>\n",
              "</div>\n",
              "\n",
              "    </div>\n",
              "  </div>\n"
            ],
            "application/vnd.google.colaboratory.intrinsic+json": {
              "type": "dataframe",
              "variable_name": "df"
            }
          },
          "metadata": {},
          "execution_count": 5
        }
      ],
      "source": [
        "df.head()"
      ]
    },
    {
      "cell_type": "code",
      "execution_count": null,
      "metadata": {
        "id": "RDYc45AAAkkw"
      },
      "outputs": [],
      "source": [
        "heterogeneous_required = ['merchant','currency','country','card_type',\n",
        "                          'card_present','device','channel','distance_from_home','high_risk_merchant','is_fraud']"
      ]
    },
    {
      "cell_type": "code",
      "execution_count": null,
      "metadata": {
        "colab": {
          "base_uri": "https://localhost:8080/"
        },
        "id": "qjqZcxmBUejx",
        "outputId": "6ff6bd26-4075-45b5-8b87-db966daffa70"
      },
      "outputs": [
        {
          "output_type": "stream",
          "name": "stdout",
          "text": [
            "Column: merchant\n",
            "Column: currency\n",
            "Column: country\n",
            "Column: card_type\n",
            "Column: card_present\n",
            "Column: device\n",
            "Column: channel\n",
            "Column: distance_from_home\n",
            "Column: high_risk_merchant\n",
            "Column: is_fraud\n"
          ]
        }
      ],
      "source": [
        "# Iterate over each column and its data\n",
        "new_df = pd.DataFrame()\n",
        "for column, data in df.items():\n",
        "    if (column not in heterogeneous_required):\n",
        "      continue\n",
        "    print(f\"Column: {column}\")\n",
        "    unique_values = data.unique()\n",
        "    increment=1\n",
        "    for value in unique_values:\n",
        "      filtered_rows = df[data == value]\n",
        "      random_rows = df.sample(n=1400, random_state=increment)\n",
        "      increment=increment+1\n",
        "      new_df = pd.concat([new_df, random_rows], ignore_index=True)"
      ]
    },
    {
      "cell_type": "code",
      "execution_count": null,
      "metadata": {
        "colab": {
          "base_uri": "https://localhost:8080/"
        },
        "id": "tzRIyr0XvvUg",
        "outputId": "ccbf196d-33b3-41d1-9696-35a4792e715f"
      },
      "outputs": [
        {
          "output_type": "stream",
          "name": "stdout",
          "text": [
            "Number of duplicate rows: 214200\n"
          ]
        }
      ],
      "source": [
        "duplicate_count = new_df.duplicated().count()\n",
        "\n",
        "print(f\"Number of duplicate rows: {duplicate_count}\")"
      ]
    },
    {
      "cell_type": "code",
      "execution_count": null,
      "metadata": {
        "id": "ueV61xrBt_Me"
      },
      "outputs": [],
      "source": [
        "new_df= new_df.drop_duplicates()"
      ]
    },
    {
      "cell_type": "code",
      "execution_count": null,
      "metadata": {
        "id": "JIw_mr-6TrlJ",
        "colab": {
          "base_uri": "https://localhost:8080/"
        },
        "outputId": "d491f9d8-7edc-493d-bca3-f90acfeb96de"
      },
      "outputs": [
        {
          "output_type": "stream",
          "name": "stdout",
          "text": [
            "7483766\n"
          ]
        }
      ],
      "source": [
        "print(df.shape[0])"
      ]
    },
    {
      "cell_type": "code",
      "execution_count": null,
      "metadata": {
        "id": "glmVgSMgW0s1",
        "colab": {
          "base_uri": "https://localhost:8080/"
        },
        "outputId": "eb8fd92c-ab59-423a-cbc6-ae1eec7cbc4f"
      },
      "outputs": [
        {
          "output_type": "stream",
          "name": "stdout",
          "text": [
            "(145586, 20)\n"
          ]
        }
      ],
      "source": [
        "print(new_df.shape)"
      ]
    },
    {
      "cell_type": "code",
      "execution_count": null,
      "metadata": {
        "colab": {
          "base_uri": "https://localhost:8080/"
        },
        "id": "DRV3t0eZZEpn",
        "outputId": "b86bddb2-6d16-45e6-be4f-812b55f3cf84"
      },
      "outputs": [
        {
          "output_type": "stream",
          "name": "stdout",
          "text": [
            "total no. of categorical features=  14\n",
            "names of categorical features:  ['transaction_id', 'customer_id', 'timestamp', 'merchant_category', 'merchant_type', 'merchant', 'currency', 'country', 'card_type', 'device', 'channel', 'device_fingerprint', 'ip_address', 'velocity_last_hour']\n"
          ]
        }
      ],
      "source": [
        "cat_features=new_df.select_dtypes(include=[\"object\"]).columns\n",
        "print(\"total no. of categorical features= \",cat_features.shape[0])\n",
        "print(\"names of categorical features: \",cat_features.tolist())"
      ]
    },
    {
      "cell_type": "code",
      "source": [
        "new_df.dropna(subset=['timestamp'],inplace=True)"
      ],
      "metadata": {
        "id": "S28zm2g3E7yJ"
      },
      "execution_count": null,
      "outputs": []
    },
    {
      "cell_type": "code",
      "source": [
        "# Drop rows where the 'device_fingerprint' is '592d14ea70aa2116ec6ab7517af1b317'\n",
        "new_df_cleaned = new_df[new_df['device_fingerprint'] != '592d14ea70aa2116ec6ab7517af1b317']\n",
        "\n",
        "# Print the cleaned DataFrame to verify\n",
        "print(new_df_cleaned)\n"
      ],
      "metadata": {
        "id": "Tmm8tE6fGIDN"
      },
      "execution_count": null,
      "outputs": []
    },
    {
      "cell_type": "code",
      "source": [],
      "metadata": {
        "id": "k98qhgKhGJAY"
      },
      "execution_count": null,
      "outputs": []
    },
    {
      "cell_type": "code",
      "execution_count": null,
      "metadata": {
        "id": "EOa1_Lt49gYm"
      },
      "outputs": [],
      "source": [
        "# Convert the 'timestamp' column to datetime\n",
        "# Convert the 'timestamp' column to datetime, handling errors\n",
        "new_df['timestamp'] = pd.to_datetime(new_df['timestamp'], errors='coerce')\n",
        "\n",
        "# Extract year, month, day, hour, minute, second as integers\n",
        "new_df['year'] = new_df['timestamp'].dt.year\n",
        "new_df['month'] = new_df['timestamp'].dt.month\n",
        "new_df['day'] = new_df['timestamp'].dt.day\n",
        "new_df['hour'] = new_df['timestamp'].dt.hour\n",
        "new_df['minute'] = new_df['timestamp'].dt.minute\n",
        "new_df['second'] = new_df['timestamp'].dt.second"
      ]
    },
    {
      "cell_type": "code",
      "execution_count": null,
      "metadata": {
        "id": "Ed_qk1gH-1I4"
      },
      "outputs": [],
      "source": [
        "# Convert the columns to integers (handle NaT by using 'Int64')\n",
        "new_df['year'] = new_df['year'].astype('Int64')  # or use 'int' if no NaN values\n",
        "new_df['month'] = new_df['month'].astype('Int64')\n",
        "new_df['day'] = new_df['day'].astype('Int64')\n",
        "new_df['hour'] = new_df['hour'].astype('Int64')\n",
        "new_df['minute'] = new_df['minute'].astype('Int64')\n",
        "new_df['second'] = new_df['second'].astype('Int64')"
      ]
    },
    {
      "cell_type": "code",
      "source": [
        "print(new_df.shape)"
      ],
      "metadata": {
        "colab": {
          "base_uri": "https://localhost:8080/"
        },
        "id": "_Zb9Ni1VF3Hd",
        "outputId": "de4ec642-0363-4c89-ba78-23f3dc134d7c"
      },
      "execution_count": null,
      "outputs": [
        {
          "output_type": "stream",
          "name": "stdout",
          "text": [
            "(145585, 26)\n"
          ]
        }
      ]
    },
    {
      "cell_type": "code",
      "source": [
        "# Check rows with NaN values in the derived columns\n",
        "missing_in_derived_columns = new_df[new_df[['year', 'month', 'day', 'hour', 'minute', 'second']].isna().any(axis=1)]\n",
        "print(missing_in_derived_columns)"
      ],
      "metadata": {
        "colab": {
          "base_uri": "https://localhost:8080/"
        },
        "id": "JuCIW-urEVeh",
        "outputId": "39ab4eb6-88de-479b-8093-5a557c577c55"
      },
      "execution_count": null,
      "outputs": [
        {
          "output_type": "stream",
          "name": "stdout",
          "text": [
            "Empty DataFrame\n",
            "Columns: [transaction_id, customer_id, card_number, timestamp, merchant_category, merchant_type, merchant, amount, currency, country, card_type, card_present, device, channel, device_fingerprint, ip_address, distance_from_home, high_risk_merchant, velocity_last_hour, is_fraud, year, month, day, hour, minute, second]\n",
            "Index: []\n"
          ]
        }
      ]
    },
    {
      "cell_type": "code",
      "execution_count": null,
      "metadata": {
        "colab": {
          "base_uri": "https://localhost:8080/"
        },
        "collapsed": true,
        "id": "WL61PM9vbrUI",
        "outputId": "3f7449f6-8c4e-4f9f-cd71-5c16ef505290"
      },
      "outputs": [
        {
          "output_type": "stream",
          "name": "stdout",
          "text": [
            "  transaction_id customer_id       card_number  \\\n",
            "0    TX_cf11f0cb  CUST_42999  5657446153534508   \n",
            "1    TX_c78624ec  CUST_29204  6222409918587900   \n",
            "2    TX_04bd0e87  CUST_57907  5166957931974786   \n",
            "3    TX_28c7d276  CUST_12987  5928132495805102   \n",
            "4    TX_0156597f  CUST_70532  6725250754481572   \n",
            "\n",
            "                         timestamp merchant_category merchant_type  \\\n",
            "0 2024-10-29 01:17:19.097797+00:00     Entertainment        gaming   \n",
            "1 2024-10-18 09:51:51.030078+00:00         Education      supplies   \n",
            "2 2024-10-12 01:22:14.999972+00:00     Entertainment        gaming   \n",
            "3 2024-10-25 18:52:57.286243+00:00           Grocery        online   \n",
            "4 2024-10-20 17:41:20.196833+00:00     Entertainment     streaming   \n",
            "\n",
            "            merchant    amount currency  country        card_type  \\\n",
            "0     Nintendo eShop  93156.80      NGN  Nigeria      Gold Credit   \n",
            "1     Barnes & Noble   7201.28      MXN   Mexico    Premium Debit   \n",
            "2  PlayStation Store  23260.05      RUB   Russia      Basic Debit   \n",
            "3       Amazon Fresh  42409.91      RUB   Russia  Platinum Credit   \n",
            "4            Disney+   2828.70      MXN   Mexico      Basic Debit   \n",
            "\n",
            "   card_present       device channel                device_fingerprint  \\\n",
            "0         False       Safari     web  1633220daa59ceb002c4060a5cefc131   \n",
            "1         False      Firefox     web  0ef69f052822b294a8e9abe339e84814   \n",
            "2          True  NFC Payment     pos  4fbb1f3964c1e98bea6115d8c175bc29   \n",
            "3         False       Chrome     web  25a402219dfcde0195867a63055338ed   \n",
            "4         False         Edge     web  ee6712e9b3d4d22e388c7de79bbbbd04   \n",
            "\n",
            "        ip_address  distance_from_home  high_risk_merchant  \\\n",
            "0    117.137.114.1                   1                True   \n",
            "1    206.33.211.18                   0               False   \n",
            "2  125.247.166.222                   1                True   \n",
            "3   103.148.86.223                   0               False   \n",
            "4  218.219.104.211                   0                True   \n",
            "\n",
            "                                  velocity_last_hour  is_fraud  year  month  \\\n",
            "0  {'num_transactions': 77, 'total_amount': 98566...     False  2024     10   \n",
            "1  {'num_transactions': 563, 'total_amount': 1595...     False  2024     10   \n",
            "2  {'num_transactions': 1794, 'total_amount': 525...      True  2024     10   \n",
            "3  {'num_transactions': 217, 'total_amount': 1765...     False  2024     10   \n",
            "4  {'num_transactions': 357, 'total_amount': 8226...     False  2024     10   \n",
            "\n",
            "   day  hour  minute  second  \n",
            "0   29     1      17      19  \n",
            "1   18     9      51      51  \n",
            "2   12     1      22      14  \n",
            "3   25    18      52      57  \n",
            "4   20    17      41      20  \n"
          ]
        }
      ],
      "source": [
        "pd.set_option('display.max_rows', None)\n",
        "pd.set_option('display.max_columns', None)\n",
        "\n",
        "print(new_df.head())\n"
      ]
    },
    {
      "cell_type": "code",
      "source": [
        "new_df.drop(columns=['timestamp'], inplace=True)"
      ],
      "metadata": {
        "id": "qF6SPDt93ldh"
      },
      "execution_count": null,
      "outputs": []
    },
    {
      "cell_type": "code",
      "execution_count": null,
      "metadata": {
        "id": "UnU0I7JiTfDU"
      },
      "outputs": [],
      "source": [
        "new_df.drop(columns=['transaction_id', 'customer_id'], inplace=True)"
      ]
    },
    {
      "cell_type": "code",
      "source": [
        "print(new_df.shape)"
      ],
      "metadata": {
        "colab": {
          "base_uri": "https://localhost:8080/"
        },
        "id": "QB_zF5HR3fU3",
        "outputId": "e401d965-cab0-49bd-91e5-f7656550adb2"
      },
      "execution_count": null,
      "outputs": [
        {
          "output_type": "stream",
          "name": "stdout",
          "text": [
            "(145586, 23)\n"
          ]
        }
      ]
    },
    {
      "cell_type": "code",
      "execution_count": null,
      "metadata": {
        "colab": {
          "base_uri": "https://localhost:8080/"
        },
        "id": "xG6IjActAMiu",
        "outputId": "5eb27dd7-cf2b-4b49-a6f7-019cdc1b7a42"
      },
      "outputs": [
        {
          "output_type": "stream",
          "name": "stdout",
          "text": [
            "Index(['card_number', 'merchant_category', 'merchant_type', 'merchant',\n",
            "       'amount', 'currency', 'country', 'card_type', 'card_present', 'device',\n",
            "       'channel', 'device_fingerprint', 'ip_address', 'distance_from_home',\n",
            "       'high_risk_merchant', 'velocity_last_hour', 'is_fraud', 'year', 'month',\n",
            "       'day', 'hour', 'minute', 'second'],\n",
            "      dtype='object')\n"
          ]
        }
      ],
      "source": [
        "print(new_df.columns)"
      ]
    },
    {
      "cell_type": "code",
      "execution_count": null,
      "metadata": {
        "colab": {
          "base_uri": "https://localhost:8080/"
        },
        "id": "VnD39YjHMMRb",
        "outputId": "0a0c07c8-4669-40dd-daa2-c5020e26bf55",
        "collapsed": true
      },
      "outputs": [
        {
          "output_type": "stream",
          "name": "stdout",
          "text": [
            "        card_number merchant_category merchant_type           merchant  \\\n",
            "0  5657446153534508     Entertainment        gaming     Nintendo eShop   \n",
            "1  6222409918587900         Education      supplies     Barnes & Noble   \n",
            "2  5166957931974786     Entertainment        gaming  PlayStation Store   \n",
            "3  5928132495805102           Grocery        online       Amazon Fresh   \n",
            "4  6725250754481572     Entertainment     streaming            Disney+   \n",
            "\n",
            "     amount currency  country        card_type  card_present       device  \\\n",
            "0  93156.80      NGN  Nigeria      Gold Credit         False       Safari   \n",
            "1   7201.28      MXN   Mexico    Premium Debit         False      Firefox   \n",
            "2  23260.05      RUB   Russia      Basic Debit          True  NFC Payment   \n",
            "3  42409.91      RUB   Russia  Platinum Credit         False       Chrome   \n",
            "4   2828.70      MXN   Mexico      Basic Debit         False         Edge   \n",
            "\n",
            "  channel                device_fingerprint       ip_address  \\\n",
            "0     web  1633220daa59ceb002c4060a5cefc131    117.137.114.1   \n",
            "1     web  0ef69f052822b294a8e9abe339e84814    206.33.211.18   \n",
            "2     pos  4fbb1f3964c1e98bea6115d8c175bc29  125.247.166.222   \n",
            "3     web  25a402219dfcde0195867a63055338ed   103.148.86.223   \n",
            "4     web  ee6712e9b3d4d22e388c7de79bbbbd04  218.219.104.211   \n",
            "\n",
            "   distance_from_home  high_risk_merchant  \\\n",
            "0                   1                True   \n",
            "1                   0               False   \n",
            "2                   1                True   \n",
            "3                   0               False   \n",
            "4                   0                True   \n",
            "\n",
            "                                  velocity_last_hour  is_fraud  year  month  \\\n",
            "0  {'num_transactions': 77, 'total_amount': 98566...     False  2024     10   \n",
            "1  {'num_transactions': 563, 'total_amount': 1595...     False  2024     10   \n",
            "2  {'num_transactions': 1794, 'total_amount': 525...      True  2024     10   \n",
            "3  {'num_transactions': 217, 'total_amount': 1765...     False  2024     10   \n",
            "4  {'num_transactions': 357, 'total_amount': 8226...     False  2024     10   \n",
            "\n",
            "   day  hour  minute  second  \n",
            "0   29     1      17      19  \n",
            "1   18     9      51      51  \n",
            "2   12     1      22      14  \n",
            "3   25    18      52      57  \n",
            "4   20    17      41      20  \n"
          ]
        }
      ],
      "source": [
        "print(new_df.head())"
      ]
    },
    {
      "cell_type": "code",
      "execution_count": null,
      "metadata": {
        "collapsed": true,
        "id": "Xq5Y9R2SA1oA",
        "colab": {
          "base_uri": "https://localhost:8080/"
        },
        "outputId": "42ff6faf-4689-497b-a394-a0b2115564a9"
      },
      "outputs": [
        {
          "output_type": "stream",
          "name": "stdout",
          "text": [
            "146900    {'num_transactions': 333, 'total_amount': 5058...\n",
            "146901    {'num_transactions': 412, 'total_amount': 7848...\n",
            "146902    {'num_transactions': 891, 'total_amount': 3671...\n",
            "146903    {'num_transactions': 663, 'total_amount': 6909...\n",
            "146904    {'num_transactions': 154, 'total_amount': 2189...\n",
            "146905    {'num_transactions': 611, 'total_amount': 1615...\n",
            "146906    {'num_transactions': 469, 'total_amount': 1597...\n",
            "146907    {'num_transactions': 262, 'total_amount': 6808...\n",
            "146908    {'num_transactions': 9, 'total_amount': 20264....\n",
            "146909    {'num_transactions': 707, 'total_amount': 3124...\n",
            "146910    {'num_transactions': 287, 'total_amount': 2261...\n",
            "146911    {'num_transactions': 1057, 'total_amount': 326...\n",
            "146912    {'num_transactions': 3, 'total_amount': 1313.0...\n",
            "146913    {'num_transactions': 445, 'total_amount': 5898...\n",
            "146914    {'num_transactions': 107, 'total_amount': 3034...\n",
            "146915    {'num_transactions': 207, 'total_amount': 5510...\n",
            "146916    {'num_transactions': 182, 'total_amount': 5369...\n",
            "146917    {'num_transactions': 529, 'total_amount': 1391...\n",
            "146918    {'num_transactions': 568, 'total_amount': 2075...\n",
            "146919    {'num_transactions': 546, 'total_amount': 9048...\n",
            "146920    {'num_transactions': 153, 'total_amount': 2321...\n",
            "146921    {'num_transactions': 633, 'total_amount': 1066...\n",
            "146922    {'num_transactions': 683, 'total_amount': 4651...\n",
            "146923    {'num_transactions': 524, 'total_amount': 2104...\n",
            "146924    {'num_transactions': 177, 'total_amount': 5254...\n",
            "146925    {'num_transactions': 214, 'total_amount': 7463...\n",
            "146926    {'num_transactions': 362, 'total_amount': 1109...\n",
            "146927    {'num_transactions': 27, 'total_amount': 53504...\n",
            "146928    {'num_transactions': 411, 'total_amount': 2571...\n",
            "146929    {'num_transactions': 89, 'total_amount': 86141...\n",
            "146930    {'num_transactions': 1183, 'total_amount': 969...\n",
            "146931    {'num_transactions': 440, 'total_amount': 1916...\n",
            "146932    {'num_transactions': 172, 'total_amount': 4926...\n",
            "146933    {'num_transactions': 167, 'total_amount': 6864...\n",
            "146934    {'num_transactions': 442, 'total_amount': 1123...\n",
            "146935    {'num_transactions': 807, 'total_amount': 4311...\n",
            "146936    {'num_transactions': 154, 'total_amount': 3222...\n",
            "146937    {'num_transactions': 319, 'total_amount': 6817...\n",
            "146938    {'num_transactions': 144, 'total_amount': 2095...\n",
            "146939    {'num_transactions': 224, 'total_amount': 4903...\n",
            "146940    {'num_transactions': 241, 'total_amount': 1165...\n",
            "146941    {'num_transactions': 1242, 'total_amount': 342...\n",
            "146942    {'num_transactions': 98, 'total_amount': 24250...\n",
            "146943    {'num_transactions': 620, 'total_amount': 2430...\n",
            "146944    {'num_transactions': 489, 'total_amount': 8667...\n",
            "146945    {'num_transactions': 921, 'total_amount': 9832...\n",
            "146946    {'num_transactions': 729, 'total_amount': 2241...\n",
            "146947    {'num_transactions': 470, 'total_amount': 6786...\n",
            "146948    {'num_transactions': 904, 'total_amount': 2448...\n",
            "146949    {'num_transactions': 14, 'total_amount': 59813...\n",
            "146950    {'num_transactions': 910, 'total_amount': 5178...\n",
            "146951    {'num_transactions': 159, 'total_amount': 1864...\n",
            "146952    {'num_transactions': 384, 'total_amount': 5822...\n",
            "146953    {'num_transactions': 637, 'total_amount': 1986...\n",
            "146954    {'num_transactions': 215, 'total_amount': 3141...\n",
            "146955    {'num_transactions': 944, 'total_amount': 1058...\n",
            "146956    {'num_transactions': 773, 'total_amount': 1931...\n",
            "146957    {'num_transactions': 37, 'total_amount': 23036...\n",
            "146958    {'num_transactions': 275, 'total_amount': 8953...\n",
            "146959    {'num_transactions': 840, 'total_amount': 9619...\n",
            "146960    {'num_transactions': 852, 'total_amount': 1387...\n",
            "146961    {'num_transactions': 76, 'total_amount': 27882...\n",
            "146962    {'num_transactions': 469, 'total_amount': 1567...\n",
            "146963    {'num_transactions': 202, 'total_amount': 2030...\n",
            "146964    {'num_transactions': 161, 'total_amount': 4887...\n",
            "146965    {'num_transactions': 462, 'total_amount': 1220...\n",
            "146966    {'num_transactions': 81, 'total_amount': 21505...\n",
            "146967    {'num_transactions': 169, 'total_amount': 3686...\n",
            "146968    {'num_transactions': 526, 'total_amount': 3542...\n",
            "146969    {'num_transactions': 965, 'total_amount': 4877...\n",
            "146970    {'num_transactions': 421, 'total_amount': 1456...\n",
            "146971    {'num_transactions': 1322, 'total_amount': 365...\n",
            "146972    {'num_transactions': 7, 'total_amount': 134626...\n",
            "146973    {'num_transactions': 191, 'total_amount': 3408...\n",
            "146974    {'num_transactions': 420, 'total_amount': 8307...\n",
            "146975    {'num_transactions': 710, 'total_amount': 1623...\n",
            "146976    {'num_transactions': 1714, 'total_amount': 406...\n",
            "146977    {'num_transactions': 78, 'total_amount': 59966...\n",
            "146978    {'num_transactions': 1233, 'total_amount': 216...\n",
            "146979    {'num_transactions': 889, 'total_amount': 2777...\n",
            "146980    {'num_transactions': 151, 'total_amount': 5722...\n",
            "146981    {'num_transactions': 1281, 'total_amount': 626...\n",
            "146982    {'num_transactions': 885, 'total_amount': 3221...\n",
            "146983    {'num_transactions': 447, 'total_amount': 1129...\n",
            "146984    {'num_transactions': 433, 'total_amount': 2211...\n",
            "146985    {'num_transactions': 905, 'total_amount': 6896...\n",
            "146986    {'num_transactions': 153, 'total_amount': 5722...\n",
            "146987    {'num_transactions': 184, 'total_amount': 6995...\n",
            "146988    {'num_transactions': 321, 'total_amount': 7150...\n",
            "146989    {'num_transactions': 318, 'total_amount': 9940...\n",
            "146990    {'num_transactions': 582, 'total_amount': 1314...\n",
            "146991    {'num_transactions': 190, 'total_amount': 4208...\n",
            "146992    {'num_transactions': 1, 'total_amount': 1261.1...\n",
            "146993    {'num_transactions': 421, 'total_amount': 1243...\n",
            "146994    {'num_transactions': 24, 'total_amount': 31589...\n",
            "146995    {'num_transactions': 18, 'total_amount': 10209...\n",
            "146996    {'num_transactions': 243, 'total_amount': 6867...\n",
            "146997    {'num_transactions': 93, 'total_amount': 18474...\n",
            "146998    {'num_transactions': 356, 'total_amount': 1373...\n",
            "146999    {'num_transactions': 417, 'total_amount': 1032...\n",
            "Name: velocity_last_hour, dtype: object\n"
          ]
        }
      ],
      "source": [
        "# print(new_df['velocity_last_hour'].tail(100))"
      ]
    },
    {
      "cell_type": "code",
      "execution_count": null,
      "metadata": {
        "id": "hfIJyCX9DMyC"
      },
      "outputs": [],
      "source": [
        "# import ast\n",
        "\n",
        "# # Convert the string representation of dictionaries to actual dictionaries\n",
        "# new_df['velocity_last_hour'] = new_df['velocity_last_hour'].apply(ast.literal_eval)\n",
        "\n",
        "# # Extract 'num_transactions' and 'total_amount' into separate columns\n",
        "# new_df['num_transactions'] = new_df['velocity_last_hour'].apply(lambda x: x['num_transactions'])\n",
        "# new_df['total_amount'] = new_df['velocity_last_hour'].apply(lambda x: x['total_amount'])\n"
      ]
    },
    {
      "cell_type": "code",
      "execution_count": null,
      "metadata": {
        "id": "zZSK_b0ZEnpC"
      },
      "outputs": [],
      "source": [
        "# new_df.drop(columns=['velocity_last_hour'], inplace=True)"
      ]
    },
    {
      "cell_type": "code",
      "source": [
        "df_encoded = new_df.copy()\n",
        "df_encoded.drop('merchant', inplace=True, axis=1)\n",
        "\n",
        "print(f\"Shape before encoding : {new_df.shape}\")\n",
        "df_encoded = pd.get_dummies(df_encoded, columns=[\n",
        "    'merchant_category',\n",
        "    'merchant_type',\n",
        "    'currency',\n",
        "    'country',\n",
        "    'card_type',\n",
        "    'device',\n",
        "    'channel'\n",
        "], drop_first=True)\n",
        "\n",
        "for column in df_encoded.columns:\n",
        "    if df_encoded[column].nunique() == 2 and df_encoded[column].dtype=='bool':\n",
        "        df_encoded[column] = df_encoded[column].astype(int)\n",
        "print(f\"Shape after encoding : {df_encoded.shape}\")"
      ],
      "metadata": {
        "colab": {
          "base_uri": "https://localhost:8080/"
        },
        "id": "zxpK60QtutqN",
        "outputId": "02856ee7-e534-43e5-d81e-64f28d6a494a"
      },
      "execution_count": null,
      "outputs": [
        {
          "output_type": "stream",
          "name": "stdout",
          "text": [
            "Shape before encoding : (145585, 23)\n",
            "Shape after encoding : (145585, 73)\n"
          ]
        }
      ]
    },
    {
      "cell_type": "code",
      "source": [
        "print(df_encoded.head())"
      ],
      "metadata": {
        "colab": {
          "base_uri": "https://localhost:8080/"
        },
        "collapsed": true,
        "id": "HmlyBTcKnz94",
        "outputId": "5807f036-ed7d-4419-8d16-a892846cac07"
      },
      "execution_count": null,
      "outputs": [
        {
          "output_type": "stream",
          "name": "stdout",
          "text": [
            "        card_number    amount  card_present                device_fingerprint  \\\n",
            "0  5657446153534508  93156.80             0  1633220daa59ceb002c4060a5cefc131   \n",
            "1  6222409918587900   7201.28             0  0ef69f052822b294a8e9abe339e84814   \n",
            "2  5166957931974786  23260.05             1  4fbb1f3964c1e98bea6115d8c175bc29   \n",
            "3  5928132495805102  42409.91             0  25a402219dfcde0195867a63055338ed   \n",
            "4  6725250754481572   2828.70             0  ee6712e9b3d4d22e388c7de79bbbbd04   \n",
            "\n",
            "        ip_address  distance_from_home  high_risk_merchant  \\\n",
            "0    117.137.114.1                   1                   1   \n",
            "1    206.33.211.18                   0                   0   \n",
            "2  125.247.166.222                   1                   1   \n",
            "3   103.148.86.223                   0                   0   \n",
            "4  218.219.104.211                   0                   1   \n",
            "\n",
            "                                  velocity_last_hour  is_fraud  year  month  \\\n",
            "0  {'num_transactions': 77, 'total_amount': 98566...         0  2024     10   \n",
            "1  {'num_transactions': 563, 'total_amount': 1595...         0  2024     10   \n",
            "2  {'num_transactions': 1794, 'total_amount': 525...         1  2024     10   \n",
            "3  {'num_transactions': 217, 'total_amount': 1765...         0  2024     10   \n",
            "4  {'num_transactions': 357, 'total_amount': 8226...         0  2024     10   \n",
            "\n",
            "   day  hour  minute  second  merchant_category_Entertainment  \\\n",
            "0   29     1      17      19                                1   \n",
            "1   18     9      51      51                                0   \n",
            "2   12     1      22      14                                1   \n",
            "3   25    18      52      57                                0   \n",
            "4   20    17      41      20                                1   \n",
            "\n",
            "   merchant_category_Gas  merchant_category_Grocery  \\\n",
            "0                      0                          0   \n",
            "1                      0                          0   \n",
            "2                      0                          0   \n",
            "3                      0                          1   \n",
            "4                      0                          0   \n",
            "\n",
            "   merchant_category_Healthcare  merchant_category_Restaurant  \\\n",
            "0                             0                             0   \n",
            "1                             0                             0   \n",
            "2                             0                             0   \n",
            "3                             0                             0   \n",
            "4                             0                             0   \n",
            "\n",
            "   merchant_category_Retail  merchant_category_Travel  merchant_type_booking  \\\n",
            "0                         0                         0                      0   \n",
            "1                         0                         0                      0   \n",
            "2                         0                         0                      0   \n",
            "3                         0                         0                      0   \n",
            "4                         0                         0                      0   \n",
            "\n",
            "   merchant_type_casual  merchant_type_events  merchant_type_fast_food  \\\n",
            "0                     0                     0                        0   \n",
            "1                     0                     0                        0   \n",
            "2                     0                     0                        0   \n",
            "3                     0                     0                        0   \n",
            "4                     0                     0                        0   \n",
            "\n",
            "   merchant_type_gaming  merchant_type_hotels  merchant_type_local  \\\n",
            "0                     1                     0                    0   \n",
            "1                     0                     0                    0   \n",
            "2                     1                     0                    0   \n",
            "3                     0                     0                    0   \n",
            "4                     0                     0                    0   \n",
            "\n",
            "   merchant_type_major  merchant_type_medical  merchant_type_online  \\\n",
            "0                    0                      0                     0   \n",
            "1                    0                      0                     0   \n",
            "2                    0                      0                     0   \n",
            "3                    0                      0                     1   \n",
            "4                    0                      0                     0   \n",
            "\n",
            "   merchant_type_pharmacy  merchant_type_physical  merchant_type_premium  \\\n",
            "0                       0                       0                      0   \n",
            "1                       0                       0                      0   \n",
            "2                       0                       0                      0   \n",
            "3                       0                       0                      0   \n",
            "4                       0                       0                      0   \n",
            "\n",
            "   merchant_type_streaming  merchant_type_supplies  merchant_type_transport  \\\n",
            "0                        0                       0                        0   \n",
            "1                        0                       1                        0   \n",
            "2                        0                       0                        0   \n",
            "3                        0                       0                        0   \n",
            "4                        1                       0                        0   \n",
            "\n",
            "   currency_BRL  currency_CAD  currency_EUR  currency_GBP  currency_JPY  \\\n",
            "0             0             0             0             0             0   \n",
            "1             0             0             0             0             0   \n",
            "2             0             0             0             0             0   \n",
            "3             0             0             0             0             0   \n",
            "4             0             0             0             0             0   \n",
            "\n",
            "   currency_MXN  currency_NGN  currency_RUB  currency_SGD  currency_USD  \\\n",
            "0             0             1             0             0             0   \n",
            "1             1             0             0             0             0   \n",
            "2             0             0             1             0             0   \n",
            "3             0             0             1             0             0   \n",
            "4             1             0             0             0             0   \n",
            "\n",
            "   country_Brazil  country_Canada  country_France  country_Germany  \\\n",
            "0               0               0               0                0   \n",
            "1               0               0               0                0   \n",
            "2               0               0               0                0   \n",
            "3               0               0               0                0   \n",
            "4               0               0               0                0   \n",
            "\n",
            "   country_Japan  country_Mexico  country_Nigeria  country_Russia  \\\n",
            "0              0               0                1               0   \n",
            "1              0               1                0               0   \n",
            "2              0               0                0               1   \n",
            "3              0               0                0               1   \n",
            "4              0               1                0               0   \n",
            "\n",
            "   country_Singapore  country_UK  country_USA  card_type_Basic Debit  \\\n",
            "0                  0           0            0                      0   \n",
            "1                  0           0            0                      0   \n",
            "2                  0           0            0                      1   \n",
            "3                  0           0            0                      0   \n",
            "4                  0           0            0                      1   \n",
            "\n",
            "   card_type_Gold Credit  card_type_Platinum Credit  card_type_Premium Debit  \\\n",
            "0                      1                          0                        0   \n",
            "1                      0                          0                        1   \n",
            "2                      0                          0                        0   \n",
            "3                      0                          1                        0   \n",
            "4                      0                          0                        0   \n",
            "\n",
            "   device_Chip Reader  device_Chrome  device_Edge  device_Firefox  \\\n",
            "0                   0              0            0               0   \n",
            "1                   0              0            0               1   \n",
            "2                   0              0            0               0   \n",
            "3                   0              1            0               0   \n",
            "4                   0              0            1               0   \n",
            "\n",
            "   device_Magnetic Stripe  device_NFC Payment  device_Safari  device_iOS App  \\\n",
            "0                       0                   0              1               0   \n",
            "1                       0                   0              0               0   \n",
            "2                       0                   1              0               0   \n",
            "3                       0                   0              0               0   \n",
            "4                       0                   0              0               0   \n",
            "\n",
            "   channel_pos  channel_web  \n",
            "0            0            1  \n",
            "1            0            1  \n",
            "2            1            0  \n",
            "3            0            1  \n",
            "4            0            1  \n"
          ]
        }
      ]
    },
    {
      "cell_type": "code",
      "source": [
        "freq_df = new_df[['merchant']].copy()\n",
        "freq = freq_df['merchant'].value_counts()\n",
        "freq_df['nmerchant'] = freq_df['merchant'].map(freq)"
      ],
      "metadata": {
        "collapsed": true,
        "id": "_gH2PCqNwCjU"
      },
      "execution_count": null,
      "outputs": []
    },
    {
      "cell_type": "code",
      "source": [
        "freq_df.shape"
      ],
      "metadata": {
        "colab": {
          "base_uri": "https://localhost:8080/"
        },
        "id": "Cjr4EYr55ceW",
        "outputId": "0c136e8d-a104-47fa-80de-2fc9ccfa0219"
      },
      "execution_count": null,
      "outputs": [
        {
          "output_type": "execute_result",
          "data": {
            "text/plain": [
              "(145585, 2)"
            ]
          },
          "metadata": {},
          "execution_count": 98
        }
      ]
    },
    {
      "cell_type": "code",
      "source": [
        "combined_df = pd.concat([df_encoded, freq_df], axis=1, ignore_index=False)"
      ],
      "metadata": {
        "id": "k5ZZadKPzXlc"
      },
      "execution_count": null,
      "outputs": []
    },
    {
      "cell_type": "code",
      "source": [
        "combined_df.shape"
      ],
      "metadata": {
        "colab": {
          "base_uri": "https://localhost:8080/"
        },
        "id": "oZjmHvAG5vTg",
        "outputId": "a724b61b-8bc8-4b90-de66-07bdea3c3f90"
      },
      "execution_count": null,
      "outputs": [
        {
          "output_type": "execute_result",
          "data": {
            "text/plain": [
              "(145586, 75)"
            ]
          },
          "metadata": {},
          "execution_count": 57
        }
      ]
    },
    {
      "cell_type": "code",
      "source": [
        "from sklearn.preprocessing import LabelEncoder\n",
        "\n",
        "# Assuming 'device_fingerprint' is the column with string values\n",
        "label_encoder = LabelEncoder()\n",
        "for  column in combined_df.columns:\n",
        "  if combined_df[column].dtype=='object':\n",
        "    combined_df[column] = label_encoder.fit_transform(combined_df[column])"
      ],
      "metadata": {
        "id": "sxia8hg4_Z6G"
      },
      "execution_count": null,
      "outputs": []
    },
    {
      "cell_type": "code",
      "source": [
        "print(combined_df.head())"
      ],
      "metadata": {
        "colab": {
          "base_uri": "https://localhost:8080/"
        },
        "collapsed": true,
        "id": "bLGivfyoE2I8",
        "outputId": "a63c8382-4f09-41e7-e06d-69430830cc2b"
      },
      "execution_count": null,
      "outputs": [
        {
          "output_type": "stream",
          "name": "stdout",
          "text": [
            "        card_number    amount  card_present  device_fingerprint  ip_address  \\\n",
            "0  5657446153534508  93156.80             0                3358       11452   \n",
            "1  6222409918587900   7201.28             0                2258       68384   \n",
            "2  5166957931974786  23260.05             1               12158       16743   \n",
            "3  5928132495805102  42409.91             0                5694        2948   \n",
            "4  6725250754481572   2828.70             0               35967       75683   \n",
            "\n",
            "   distance_from_home  high_risk_merchant  velocity_last_hour  is_fraud  year  \\\n",
            "0                   1                   1              127146         0  2024   \n",
            "1                   0                   0              104105         0  2024   \n",
            "2                   1                   1               34913         1  2024   \n",
            "3                   0                   0               44683         0  2024   \n",
            "4                   0                   1               72893         0  2024   \n",
            "\n",
            "   month  day  hour  minute  second  merchant_category_Entertainment  \\\n",
            "0     10   29     1      17      19                                1   \n",
            "1     10   18     9      51      51                                0   \n",
            "2     10   12     1      22      14                                1   \n",
            "3     10   25    18      52      57                                0   \n",
            "4     10   20    17      41      20                                1   \n",
            "\n",
            "   merchant_category_Gas  merchant_category_Grocery  \\\n",
            "0                      0                          0   \n",
            "1                      0                          0   \n",
            "2                      0                          0   \n",
            "3                      0                          1   \n",
            "4                      0                          0   \n",
            "\n",
            "   merchant_category_Healthcare  merchant_category_Restaurant  \\\n",
            "0                             0                             0   \n",
            "1                             0                             0   \n",
            "2                             0                             0   \n",
            "3                             0                             0   \n",
            "4                             0                             0   \n",
            "\n",
            "   merchant_category_Retail  merchant_category_Travel  merchant_type_booking  \\\n",
            "0                         0                         0                      0   \n",
            "1                         0                         0                      0   \n",
            "2                         0                         0                      0   \n",
            "3                         0                         0                      0   \n",
            "4                         0                         0                      0   \n",
            "\n",
            "   merchant_type_casual  merchant_type_events  merchant_type_fast_food  \\\n",
            "0                     0                     0                        0   \n",
            "1                     0                     0                        0   \n",
            "2                     0                     0                        0   \n",
            "3                     0                     0                        0   \n",
            "4                     0                     0                        0   \n",
            "\n",
            "   merchant_type_gaming  merchant_type_hotels  merchant_type_local  \\\n",
            "0                     1                     0                    0   \n",
            "1                     0                     0                    0   \n",
            "2                     1                     0                    0   \n",
            "3                     0                     0                    0   \n",
            "4                     0                     0                    0   \n",
            "\n",
            "   merchant_type_major  merchant_type_medical  merchant_type_online  \\\n",
            "0                    0                      0                     0   \n",
            "1                    0                      0                     0   \n",
            "2                    0                      0                     0   \n",
            "3                    0                      0                     1   \n",
            "4                    0                      0                     0   \n",
            "\n",
            "   merchant_type_pharmacy  merchant_type_physical  merchant_type_premium  \\\n",
            "0                       0                       0                      0   \n",
            "1                       0                       0                      0   \n",
            "2                       0                       0                      0   \n",
            "3                       0                       0                      0   \n",
            "4                       0                       0                      0   \n",
            "\n",
            "   merchant_type_streaming  merchant_type_supplies  merchant_type_transport  \\\n",
            "0                        0                       0                        0   \n",
            "1                        0                       1                        0   \n",
            "2                        0                       0                        0   \n",
            "3                        0                       0                        0   \n",
            "4                        1                       0                        0   \n",
            "\n",
            "   currency_BRL  currency_CAD  currency_EUR  currency_GBP  currency_JPY  \\\n",
            "0             0             0             0             0             0   \n",
            "1             0             0             0             0             0   \n",
            "2             0             0             0             0             0   \n",
            "3             0             0             0             0             0   \n",
            "4             0             0             0             0             0   \n",
            "\n",
            "   currency_MXN  currency_NGN  currency_RUB  currency_SGD  currency_USD  \\\n",
            "0             0             1             0             0             0   \n",
            "1             1             0             0             0             0   \n",
            "2             0             0             1             0             0   \n",
            "3             0             0             1             0             0   \n",
            "4             1             0             0             0             0   \n",
            "\n",
            "   country_Brazil  country_Canada  country_France  country_Germany  \\\n",
            "0               0               0               0                0   \n",
            "1               0               0               0                0   \n",
            "2               0               0               0                0   \n",
            "3               0               0               0                0   \n",
            "4               0               0               0                0   \n",
            "\n",
            "   country_Japan  country_Mexico  country_Nigeria  country_Russia  \\\n",
            "0              0               0                1               0   \n",
            "1              0               1                0               0   \n",
            "2              0               0                0               1   \n",
            "3              0               0                0               1   \n",
            "4              0               1                0               0   \n",
            "\n",
            "   country_Singapore  country_UK  country_USA  card_type_Basic Debit  \\\n",
            "0                  0           0            0                      0   \n",
            "1                  0           0            0                      0   \n",
            "2                  0           0            0                      1   \n",
            "3                  0           0            0                      0   \n",
            "4                  0           0            0                      1   \n",
            "\n",
            "   card_type_Gold Credit  card_type_Platinum Credit  card_type_Premium Debit  \\\n",
            "0                      1                          0                        0   \n",
            "1                      0                          0                        1   \n",
            "2                      0                          0                        0   \n",
            "3                      0                          1                        0   \n",
            "4                      0                          0                        0   \n",
            "\n",
            "   device_Chip Reader  device_Chrome  device_Edge  device_Firefox  \\\n",
            "0                   0              0            0               0   \n",
            "1                   0              0            0               1   \n",
            "2                   0              0            0               0   \n",
            "3                   0              1            0               0   \n",
            "4                   0              0            1               0   \n",
            "\n",
            "   device_Magnetic Stripe  device_NFC Payment  device_Safari  device_iOS App  \\\n",
            "0                       0                   0              1               0   \n",
            "1                       0                   0              0               0   \n",
            "2                       0                   1              0               0   \n",
            "3                       0                   0              0               0   \n",
            "4                       0                   0              0               0   \n",
            "\n",
            "   channel_pos  channel_web  merchant  nmerchant  \n",
            "0            0            1        64       1257  \n",
            "1            0            1        11       3023  \n",
            "2            1            0        67       1261  \n",
            "3            0            1         5       2296  \n",
            "4            0            1        24        918  \n"
          ]
        }
      ]
    },
    {
      "cell_type": "code",
      "source": [
        "# Check for missing values in each column of X_train\n",
        "missing_values = combined_df.isna().sum()\n",
        "\n",
        "# Display columns with missing values\n",
        "columns_with_missing_values = missing_values[missing_values > 0]\n",
        "print(missing_values)\n"
      ],
      "metadata": {
        "colab": {
          "base_uri": "https://localhost:8080/"
        },
        "collapsed": true,
        "id": "Ug54CDVgBkEi",
        "outputId": "7a3dbca3-6b01-4bfe-9845-9533c8bc0ce5"
      },
      "execution_count": null,
      "outputs": [
        {
          "output_type": "stream",
          "name": "stdout",
          "text": [
            "card_number                        0\n",
            "amount                             0\n",
            "card_present                       0\n",
            "device_fingerprint                 0\n",
            "ip_address                         0\n",
            "distance_from_home                 0\n",
            "high_risk_merchant                 0\n",
            "velocity_last_hour                 0\n",
            "is_fraud                           0\n",
            "year                               1\n",
            "month                              1\n",
            "day                                1\n",
            "hour                               1\n",
            "minute                             1\n",
            "second                             1\n",
            "merchant_category_Entertainment    0\n",
            "merchant_category_Gas              0\n",
            "merchant_category_Grocery          0\n",
            "merchant_category_Healthcare       0\n",
            "merchant_category_Restaurant       0\n",
            "merchant_category_Retail           0\n",
            "merchant_category_Travel           0\n",
            "merchant_type_booking              0\n",
            "merchant_type_casual               0\n",
            "merchant_type_events               0\n",
            "merchant_type_fast_food            0\n",
            "merchant_type_gaming               0\n",
            "merchant_type_hotels               0\n",
            "merchant_type_local                0\n",
            "merchant_type_major                0\n",
            "merchant_type_medical              0\n",
            "merchant_type_online               0\n",
            "merchant_type_pharmacy             0\n",
            "merchant_type_physical             0\n",
            "merchant_type_premium              0\n",
            "merchant_type_streaming            0\n",
            "merchant_type_supplies             0\n",
            "merchant_type_transport            0\n",
            "currency_BRL                       0\n",
            "currency_CAD                       0\n",
            "currency_EUR                       0\n",
            "currency_GBP                       0\n",
            "currency_JPY                       0\n",
            "currency_MXN                       0\n",
            "currency_NGN                       0\n",
            "currency_RUB                       0\n",
            "currency_SGD                       0\n",
            "currency_USD                       0\n",
            "country_Brazil                     0\n",
            "country_Canada                     0\n",
            "country_France                     0\n",
            "country_Germany                    0\n",
            "country_Japan                      0\n",
            "country_Mexico                     0\n",
            "country_Nigeria                    0\n",
            "country_Russia                     0\n",
            "country_Singapore                  0\n",
            "country_UK                         0\n",
            "country_USA                        0\n",
            "card_type_Basic Debit              0\n",
            "card_type_Gold Credit              0\n",
            "card_type_Platinum Credit          0\n",
            "card_type_Premium Debit            0\n",
            "device_Chip Reader                 0\n",
            "device_Chrome                      0\n",
            "device_Edge                        0\n",
            "device_Firefox                     0\n",
            "device_Magnetic Stripe             0\n",
            "device_NFC Payment                 0\n",
            "device_Safari                      0\n",
            "device_iOS App                     0\n",
            "channel_pos                        0\n",
            "channel_web                        0\n",
            "merchant                           0\n",
            "nmerchant                          0\n",
            "dtype: int64\n"
          ]
        }
      ]
    },
    {
      "cell_type": "code",
      "source": [
        "print(combined_df.columns)"
      ],
      "metadata": {
        "colab": {
          "base_uri": "https://localhost:8080/"
        },
        "id": "UDQOvjgpMtXH",
        "outputId": "95314af6-04c5-4aab-d894-142222dc4f35"
      },
      "execution_count": null,
      "outputs": [
        {
          "output_type": "stream",
          "name": "stdout",
          "text": [
            "Index(['card_number', 'amount', 'card_present', 'device_fingerprint',\n",
            "       'ip_address', 'distance_from_home', 'high_risk_merchant',\n",
            "       'velocity_last_hour', 'is_fraud', 'year', 'month', 'day', 'hour',\n",
            "       'minute', 'second', 'merchant_category_Entertainment',\n",
            "       'merchant_category_Gas', 'merchant_category_Grocery',\n",
            "       'merchant_category_Healthcare', 'merchant_category_Restaurant',\n",
            "       'merchant_category_Retail', 'merchant_category_Travel',\n",
            "       'merchant_type_booking', 'merchant_type_casual', 'merchant_type_events',\n",
            "       'merchant_type_fast_food', 'merchant_type_gaming',\n",
            "       'merchant_type_hotels', 'merchant_type_local', 'merchant_type_major',\n",
            "       'merchant_type_medical', 'merchant_type_online',\n",
            "       'merchant_type_pharmacy', 'merchant_type_physical',\n",
            "       'merchant_type_premium', 'merchant_type_streaming',\n",
            "       'merchant_type_supplies', 'merchant_type_transport', 'currency_BRL',\n",
            "       'currency_CAD', 'currency_EUR', 'currency_GBP', 'currency_JPY',\n",
            "       'currency_MXN', 'currency_NGN', 'currency_RUB', 'currency_SGD',\n",
            "       'currency_USD', 'country_Brazil', 'country_Canada', 'country_France',\n",
            "       'country_Germany', 'country_Japan', 'country_Mexico', 'country_Nigeria',\n",
            "       'country_Russia', 'country_Singapore', 'country_UK', 'country_USA',\n",
            "       'card_type_Basic Debit', 'card_type_Gold Credit',\n",
            "       'card_type_Platinum Credit', 'card_type_Premium Debit',\n",
            "       'device_Chip Reader', 'device_Chrome', 'device_Edge', 'device_Firefox',\n",
            "       'device_Magnetic Stripe', 'device_NFC Payment', 'device_Safari',\n",
            "       'device_iOS App', 'channel_pos', 'channel_web', 'merchant',\n",
            "       'nmerchant'],\n",
            "      dtype='object')\n"
          ]
        }
      ]
    },
    {
      "cell_type": "markdown",
      "source": [
        "## **Data Training**"
      ],
      "metadata": {
        "id": "fVrsKCjM2fmy"
      }
    },
    {
      "cell_type": "code",
      "source": [
        "len_train=combined_df.shape[0]\n",
        "X=combined_df[:len_train].drop(\"is_fraud\",axis=1)\n",
        "Y=combined_df[\"is_fraud\"][:len_train]\n",
        "from sklearn.model_selection import train_test_split\n",
        "X_train , X_test, Y_train , Y_test = train_test_split(X,Y,test_size=0.20,random_state = 42)"
      ],
      "metadata": {
        "id": "1NB-Zwcj8NsN"
      },
      "execution_count": null,
      "outputs": []
    },
    {
      "cell_type": "code",
      "source": [
        "from sklearn.ensemble import GradientBoostingClassifier\n",
        "\n",
        "model1=GradientBoostingClassifier()\n",
        "\n",
        "model1.fit(X_train,Y_train)"
      ],
      "metadata": {
        "colab": {
          "base_uri": "https://localhost:8080/",
          "height": 80
        },
        "collapsed": true,
        "id": "uKZzsvkeK-in",
        "outputId": "587dcb9d-4b4a-4a3a-96a1-6babd573a1fc"
      },
      "execution_count": null,
      "outputs": [
        {
          "output_type": "execute_result",
          "data": {
            "text/plain": [
              "GradientBoostingClassifier()"
            ],
            "text/html": [
              "<style>#sk-container-id-10 {\n",
              "  /* Definition of color scheme common for light and dark mode */\n",
              "  --sklearn-color-text: #000;\n",
              "  --sklearn-color-text-muted: #666;\n",
              "  --sklearn-color-line: gray;\n",
              "  /* Definition of color scheme for unfitted estimators */\n",
              "  --sklearn-color-unfitted-level-0: #fff5e6;\n",
              "  --sklearn-color-unfitted-level-1: #f6e4d2;\n",
              "  --sklearn-color-unfitted-level-2: #ffe0b3;\n",
              "  --sklearn-color-unfitted-level-3: chocolate;\n",
              "  /* Definition of color scheme for fitted estimators */\n",
              "  --sklearn-color-fitted-level-0: #f0f8ff;\n",
              "  --sklearn-color-fitted-level-1: #d4ebff;\n",
              "  --sklearn-color-fitted-level-2: #b3dbfd;\n",
              "  --sklearn-color-fitted-level-3: cornflowerblue;\n",
              "\n",
              "  /* Specific color for light theme */\n",
              "  --sklearn-color-text-on-default-background: var(--sg-text-color, var(--theme-code-foreground, var(--jp-content-font-color1, black)));\n",
              "  --sklearn-color-background: var(--sg-background-color, var(--theme-background, var(--jp-layout-color0, white)));\n",
              "  --sklearn-color-border-box: var(--sg-text-color, var(--theme-code-foreground, var(--jp-content-font-color1, black)));\n",
              "  --sklearn-color-icon: #696969;\n",
              "\n",
              "  @media (prefers-color-scheme: dark) {\n",
              "    /* Redefinition of color scheme for dark theme */\n",
              "    --sklearn-color-text-on-default-background: var(--sg-text-color, var(--theme-code-foreground, var(--jp-content-font-color1, white)));\n",
              "    --sklearn-color-background: var(--sg-background-color, var(--theme-background, var(--jp-layout-color0, #111)));\n",
              "    --sklearn-color-border-box: var(--sg-text-color, var(--theme-code-foreground, var(--jp-content-font-color1, white)));\n",
              "    --sklearn-color-icon: #878787;\n",
              "  }\n",
              "}\n",
              "\n",
              "#sk-container-id-10 {\n",
              "  color: var(--sklearn-color-text);\n",
              "}\n",
              "\n",
              "#sk-container-id-10 pre {\n",
              "  padding: 0;\n",
              "}\n",
              "\n",
              "#sk-container-id-10 input.sk-hidden--visually {\n",
              "  border: 0;\n",
              "  clip: rect(1px 1px 1px 1px);\n",
              "  clip: rect(1px, 1px, 1px, 1px);\n",
              "  height: 1px;\n",
              "  margin: -1px;\n",
              "  overflow: hidden;\n",
              "  padding: 0;\n",
              "  position: absolute;\n",
              "  width: 1px;\n",
              "}\n",
              "\n",
              "#sk-container-id-10 div.sk-dashed-wrapped {\n",
              "  border: 1px dashed var(--sklearn-color-line);\n",
              "  margin: 0 0.4em 0.5em 0.4em;\n",
              "  box-sizing: border-box;\n",
              "  padding-bottom: 0.4em;\n",
              "  background-color: var(--sklearn-color-background);\n",
              "}\n",
              "\n",
              "#sk-container-id-10 div.sk-container {\n",
              "  /* jupyter's `normalize.less` sets `[hidden] { display: none; }`\n",
              "     but bootstrap.min.css set `[hidden] { display: none !important; }`\n",
              "     so we also need the `!important` here to be able to override the\n",
              "     default hidden behavior on the sphinx rendered scikit-learn.org.\n",
              "     See: https://github.com/scikit-learn/scikit-learn/issues/21755 */\n",
              "  display: inline-block !important;\n",
              "  position: relative;\n",
              "}\n",
              "\n",
              "#sk-container-id-10 div.sk-text-repr-fallback {\n",
              "  display: none;\n",
              "}\n",
              "\n",
              "div.sk-parallel-item,\n",
              "div.sk-serial,\n",
              "div.sk-item {\n",
              "  /* draw centered vertical line to link estimators */\n",
              "  background-image: linear-gradient(var(--sklearn-color-text-on-default-background), var(--sklearn-color-text-on-default-background));\n",
              "  background-size: 2px 100%;\n",
              "  background-repeat: no-repeat;\n",
              "  background-position: center center;\n",
              "}\n",
              "\n",
              "/* Parallel-specific style estimator block */\n",
              "\n",
              "#sk-container-id-10 div.sk-parallel-item::after {\n",
              "  content: \"\";\n",
              "  width: 100%;\n",
              "  border-bottom: 2px solid var(--sklearn-color-text-on-default-background);\n",
              "  flex-grow: 1;\n",
              "}\n",
              "\n",
              "#sk-container-id-10 div.sk-parallel {\n",
              "  display: flex;\n",
              "  align-items: stretch;\n",
              "  justify-content: center;\n",
              "  background-color: var(--sklearn-color-background);\n",
              "  position: relative;\n",
              "}\n",
              "\n",
              "#sk-container-id-10 div.sk-parallel-item {\n",
              "  display: flex;\n",
              "  flex-direction: column;\n",
              "}\n",
              "\n",
              "#sk-container-id-10 div.sk-parallel-item:first-child::after {\n",
              "  align-self: flex-end;\n",
              "  width: 50%;\n",
              "}\n",
              "\n",
              "#sk-container-id-10 div.sk-parallel-item:last-child::after {\n",
              "  align-self: flex-start;\n",
              "  width: 50%;\n",
              "}\n",
              "\n",
              "#sk-container-id-10 div.sk-parallel-item:only-child::after {\n",
              "  width: 0;\n",
              "}\n",
              "\n",
              "/* Serial-specific style estimator block */\n",
              "\n",
              "#sk-container-id-10 div.sk-serial {\n",
              "  display: flex;\n",
              "  flex-direction: column;\n",
              "  align-items: center;\n",
              "  background-color: var(--sklearn-color-background);\n",
              "  padding-right: 1em;\n",
              "  padding-left: 1em;\n",
              "}\n",
              "\n",
              "\n",
              "/* Toggleable style: style used for estimator/Pipeline/ColumnTransformer box that is\n",
              "clickable and can be expanded/collapsed.\n",
              "- Pipeline and ColumnTransformer use this feature and define the default style\n",
              "- Estimators will overwrite some part of the style using the `sk-estimator` class\n",
              "*/\n",
              "\n",
              "/* Pipeline and ColumnTransformer style (default) */\n",
              "\n",
              "#sk-container-id-10 div.sk-toggleable {\n",
              "  /* Default theme specific background. It is overwritten whether we have a\n",
              "  specific estimator or a Pipeline/ColumnTransformer */\n",
              "  background-color: var(--sklearn-color-background);\n",
              "}\n",
              "\n",
              "/* Toggleable label */\n",
              "#sk-container-id-10 label.sk-toggleable__label {\n",
              "  cursor: pointer;\n",
              "  display: flex;\n",
              "  width: 100%;\n",
              "  margin-bottom: 0;\n",
              "  padding: 0.5em;\n",
              "  box-sizing: border-box;\n",
              "  text-align: center;\n",
              "  align-items: start;\n",
              "  justify-content: space-between;\n",
              "  gap: 0.5em;\n",
              "}\n",
              "\n",
              "#sk-container-id-10 label.sk-toggleable__label .caption {\n",
              "  font-size: 0.6rem;\n",
              "  font-weight: lighter;\n",
              "  color: var(--sklearn-color-text-muted);\n",
              "}\n",
              "\n",
              "#sk-container-id-10 label.sk-toggleable__label-arrow:before {\n",
              "  /* Arrow on the left of the label */\n",
              "  content: \"▸\";\n",
              "  float: left;\n",
              "  margin-right: 0.25em;\n",
              "  color: var(--sklearn-color-icon);\n",
              "}\n",
              "\n",
              "#sk-container-id-10 label.sk-toggleable__label-arrow:hover:before {\n",
              "  color: var(--sklearn-color-text);\n",
              "}\n",
              "\n",
              "/* Toggleable content - dropdown */\n",
              "\n",
              "#sk-container-id-10 div.sk-toggleable__content {\n",
              "  max-height: 0;\n",
              "  max-width: 0;\n",
              "  overflow: hidden;\n",
              "  text-align: left;\n",
              "  /* unfitted */\n",
              "  background-color: var(--sklearn-color-unfitted-level-0);\n",
              "}\n",
              "\n",
              "#sk-container-id-10 div.sk-toggleable__content.fitted {\n",
              "  /* fitted */\n",
              "  background-color: var(--sklearn-color-fitted-level-0);\n",
              "}\n",
              "\n",
              "#sk-container-id-10 div.sk-toggleable__content pre {\n",
              "  margin: 0.2em;\n",
              "  border-radius: 0.25em;\n",
              "  color: var(--sklearn-color-text);\n",
              "  /* unfitted */\n",
              "  background-color: var(--sklearn-color-unfitted-level-0);\n",
              "}\n",
              "\n",
              "#sk-container-id-10 div.sk-toggleable__content.fitted pre {\n",
              "  /* unfitted */\n",
              "  background-color: var(--sklearn-color-fitted-level-0);\n",
              "}\n",
              "\n",
              "#sk-container-id-10 input.sk-toggleable__control:checked~div.sk-toggleable__content {\n",
              "  /* Expand drop-down */\n",
              "  max-height: 200px;\n",
              "  max-width: 100%;\n",
              "  overflow: auto;\n",
              "}\n",
              "\n",
              "#sk-container-id-10 input.sk-toggleable__control:checked~label.sk-toggleable__label-arrow:before {\n",
              "  content: \"▾\";\n",
              "}\n",
              "\n",
              "/* Pipeline/ColumnTransformer-specific style */\n",
              "\n",
              "#sk-container-id-10 div.sk-label input.sk-toggleable__control:checked~label.sk-toggleable__label {\n",
              "  color: var(--sklearn-color-text);\n",
              "  background-color: var(--sklearn-color-unfitted-level-2);\n",
              "}\n",
              "\n",
              "#sk-container-id-10 div.sk-label.fitted input.sk-toggleable__control:checked~label.sk-toggleable__label {\n",
              "  background-color: var(--sklearn-color-fitted-level-2);\n",
              "}\n",
              "\n",
              "/* Estimator-specific style */\n",
              "\n",
              "/* Colorize estimator box */\n",
              "#sk-container-id-10 div.sk-estimator input.sk-toggleable__control:checked~label.sk-toggleable__label {\n",
              "  /* unfitted */\n",
              "  background-color: var(--sklearn-color-unfitted-level-2);\n",
              "}\n",
              "\n",
              "#sk-container-id-10 div.sk-estimator.fitted input.sk-toggleable__control:checked~label.sk-toggleable__label {\n",
              "  /* fitted */\n",
              "  background-color: var(--sklearn-color-fitted-level-2);\n",
              "}\n",
              "\n",
              "#sk-container-id-10 div.sk-label label.sk-toggleable__label,\n",
              "#sk-container-id-10 div.sk-label label {\n",
              "  /* The background is the default theme color */\n",
              "  color: var(--sklearn-color-text-on-default-background);\n",
              "}\n",
              "\n",
              "/* On hover, darken the color of the background */\n",
              "#sk-container-id-10 div.sk-label:hover label.sk-toggleable__label {\n",
              "  color: var(--sklearn-color-text);\n",
              "  background-color: var(--sklearn-color-unfitted-level-2);\n",
              "}\n",
              "\n",
              "/* Label box, darken color on hover, fitted */\n",
              "#sk-container-id-10 div.sk-label.fitted:hover label.sk-toggleable__label.fitted {\n",
              "  color: var(--sklearn-color-text);\n",
              "  background-color: var(--sklearn-color-fitted-level-2);\n",
              "}\n",
              "\n",
              "/* Estimator label */\n",
              "\n",
              "#sk-container-id-10 div.sk-label label {\n",
              "  font-family: monospace;\n",
              "  font-weight: bold;\n",
              "  display: inline-block;\n",
              "  line-height: 1.2em;\n",
              "}\n",
              "\n",
              "#sk-container-id-10 div.sk-label-container {\n",
              "  text-align: center;\n",
              "}\n",
              "\n",
              "/* Estimator-specific */\n",
              "#sk-container-id-10 div.sk-estimator {\n",
              "  font-family: monospace;\n",
              "  border: 1px dotted var(--sklearn-color-border-box);\n",
              "  border-radius: 0.25em;\n",
              "  box-sizing: border-box;\n",
              "  margin-bottom: 0.5em;\n",
              "  /* unfitted */\n",
              "  background-color: var(--sklearn-color-unfitted-level-0);\n",
              "}\n",
              "\n",
              "#sk-container-id-10 div.sk-estimator.fitted {\n",
              "  /* fitted */\n",
              "  background-color: var(--sklearn-color-fitted-level-0);\n",
              "}\n",
              "\n",
              "/* on hover */\n",
              "#sk-container-id-10 div.sk-estimator:hover {\n",
              "  /* unfitted */\n",
              "  background-color: var(--sklearn-color-unfitted-level-2);\n",
              "}\n",
              "\n",
              "#sk-container-id-10 div.sk-estimator.fitted:hover {\n",
              "  /* fitted */\n",
              "  background-color: var(--sklearn-color-fitted-level-2);\n",
              "}\n",
              "\n",
              "/* Specification for estimator info (e.g. \"i\" and \"?\") */\n",
              "\n",
              "/* Common style for \"i\" and \"?\" */\n",
              "\n",
              ".sk-estimator-doc-link,\n",
              "a:link.sk-estimator-doc-link,\n",
              "a:visited.sk-estimator-doc-link {\n",
              "  float: right;\n",
              "  font-size: smaller;\n",
              "  line-height: 1em;\n",
              "  font-family: monospace;\n",
              "  background-color: var(--sklearn-color-background);\n",
              "  border-radius: 1em;\n",
              "  height: 1em;\n",
              "  width: 1em;\n",
              "  text-decoration: none !important;\n",
              "  margin-left: 0.5em;\n",
              "  text-align: center;\n",
              "  /* unfitted */\n",
              "  border: var(--sklearn-color-unfitted-level-1) 1pt solid;\n",
              "  color: var(--sklearn-color-unfitted-level-1);\n",
              "}\n",
              "\n",
              ".sk-estimator-doc-link.fitted,\n",
              "a:link.sk-estimator-doc-link.fitted,\n",
              "a:visited.sk-estimator-doc-link.fitted {\n",
              "  /* fitted */\n",
              "  border: var(--sklearn-color-fitted-level-1) 1pt solid;\n",
              "  color: var(--sklearn-color-fitted-level-1);\n",
              "}\n",
              "\n",
              "/* On hover */\n",
              "div.sk-estimator:hover .sk-estimator-doc-link:hover,\n",
              ".sk-estimator-doc-link:hover,\n",
              "div.sk-label-container:hover .sk-estimator-doc-link:hover,\n",
              ".sk-estimator-doc-link:hover {\n",
              "  /* unfitted */\n",
              "  background-color: var(--sklearn-color-unfitted-level-3);\n",
              "  color: var(--sklearn-color-background);\n",
              "  text-decoration: none;\n",
              "}\n",
              "\n",
              "div.sk-estimator.fitted:hover .sk-estimator-doc-link.fitted:hover,\n",
              ".sk-estimator-doc-link.fitted:hover,\n",
              "div.sk-label-container:hover .sk-estimator-doc-link.fitted:hover,\n",
              ".sk-estimator-doc-link.fitted:hover {\n",
              "  /* fitted */\n",
              "  background-color: var(--sklearn-color-fitted-level-3);\n",
              "  color: var(--sklearn-color-background);\n",
              "  text-decoration: none;\n",
              "}\n",
              "\n",
              "/* Span, style for the box shown on hovering the info icon */\n",
              ".sk-estimator-doc-link span {\n",
              "  display: none;\n",
              "  z-index: 9999;\n",
              "  position: relative;\n",
              "  font-weight: normal;\n",
              "  right: .2ex;\n",
              "  padding: .5ex;\n",
              "  margin: .5ex;\n",
              "  width: min-content;\n",
              "  min-width: 20ex;\n",
              "  max-width: 50ex;\n",
              "  color: var(--sklearn-color-text);\n",
              "  box-shadow: 2pt 2pt 4pt #999;\n",
              "  /* unfitted */\n",
              "  background: var(--sklearn-color-unfitted-level-0);\n",
              "  border: .5pt solid var(--sklearn-color-unfitted-level-3);\n",
              "}\n",
              "\n",
              ".sk-estimator-doc-link.fitted span {\n",
              "  /* fitted */\n",
              "  background: var(--sklearn-color-fitted-level-0);\n",
              "  border: var(--sklearn-color-fitted-level-3);\n",
              "}\n",
              "\n",
              ".sk-estimator-doc-link:hover span {\n",
              "  display: block;\n",
              "}\n",
              "\n",
              "/* \"?\"-specific style due to the `<a>` HTML tag */\n",
              "\n",
              "#sk-container-id-10 a.estimator_doc_link {\n",
              "  float: right;\n",
              "  font-size: 1rem;\n",
              "  line-height: 1em;\n",
              "  font-family: monospace;\n",
              "  background-color: var(--sklearn-color-background);\n",
              "  border-radius: 1rem;\n",
              "  height: 1rem;\n",
              "  width: 1rem;\n",
              "  text-decoration: none;\n",
              "  /* unfitted */\n",
              "  color: var(--sklearn-color-unfitted-level-1);\n",
              "  border: var(--sklearn-color-unfitted-level-1) 1pt solid;\n",
              "}\n",
              "\n",
              "#sk-container-id-10 a.estimator_doc_link.fitted {\n",
              "  /* fitted */\n",
              "  border: var(--sklearn-color-fitted-level-1) 1pt solid;\n",
              "  color: var(--sklearn-color-fitted-level-1);\n",
              "}\n",
              "\n",
              "/* On hover */\n",
              "#sk-container-id-10 a.estimator_doc_link:hover {\n",
              "  /* unfitted */\n",
              "  background-color: var(--sklearn-color-unfitted-level-3);\n",
              "  color: var(--sklearn-color-background);\n",
              "  text-decoration: none;\n",
              "}\n",
              "\n",
              "#sk-container-id-10 a.estimator_doc_link.fitted:hover {\n",
              "  /* fitted */\n",
              "  background-color: var(--sklearn-color-fitted-level-3);\n",
              "}\n",
              "</style><div id=\"sk-container-id-10\" class=\"sk-top-container\"><div class=\"sk-text-repr-fallback\"><pre>GradientBoostingClassifier()</pre><b>In a Jupyter environment, please rerun this cell to show the HTML representation or trust the notebook. <br />On GitHub, the HTML representation is unable to render, please try loading this page with nbviewer.org.</b></div><div class=\"sk-container\" hidden><div class=\"sk-item\"><div class=\"sk-estimator fitted sk-toggleable\"><input class=\"sk-toggleable__control sk-hidden--visually\" id=\"sk-estimator-id-10\" type=\"checkbox\" checked><label for=\"sk-estimator-id-10\" class=\"sk-toggleable__label fitted sk-toggleable__label-arrow\"><div><div>GradientBoostingClassifier</div></div><div><a class=\"sk-estimator-doc-link fitted\" rel=\"noreferrer\" target=\"_blank\" href=\"https://scikit-learn.org/1.6/modules/generated/sklearn.ensemble.GradientBoostingClassifier.html\">?<span>Documentation for GradientBoostingClassifier</span></a><span class=\"sk-estimator-doc-link fitted\">i<span>Fitted</span></span></div></label><div class=\"sk-toggleable__content fitted\"><pre>GradientBoostingClassifier()</pre></div> </div></div></div></div>"
            ]
          },
          "metadata": {},
          "execution_count": 153
        }
      ]
    },
    {
      "cell_type": "code",
      "source": [
        "y_pred=model1.predict(X_test)"
      ],
      "metadata": {
        "id": "70zUIXa8LG8o"
      },
      "execution_count": null,
      "outputs": []
    },
    {
      "cell_type": "code",
      "source": [
        "from sklearn.metrics import precision_score, recall_score, f1_score, accuracy_score\n",
        "# Predict the probabilities (for binary classification, it returns two values per instance)\n",
        "y_pred_prob = model1.predict_proba(X_test)[:, 1]  # Get probabilities for class '1'\n",
        "\n",
        "# Convert probabilities to class labels (0 or 1)\n",
        "y_pred_class = (y_pred_prob > 0.5).astype(int)  # Apply threshold of 0.5 to get 0 or 1\n",
        "\n",
        "# Calculate accuracy by comparing predicted labels to actual labels (Y_test)\n",
        "accuracy = accuracy_score(Y_test, y_pred_class)\n",
        "\n",
        "# Print the accuracy\n",
        "print(f\"Accuracy: {accuracy * 100:.2f}%\")"
      ],
      "metadata": {
        "colab": {
          "base_uri": "https://localhost:8080/"
        },
        "id": "2Bc89M8DTj-x",
        "outputId": "a106096c-eb85-4671-9e2c-3d6f93027cb3"
      },
      "execution_count": null,
      "outputs": [
        {
          "output_type": "stream",
          "name": "stdout",
          "text": [
            "Accuracy: 95.89%\n"
          ]
        }
      ]
    },
    {
      "cell_type": "code",
      "source": [
        "precision = precision_score(Y_test, y_pred_class)\n",
        "precision"
      ],
      "metadata": {
        "colab": {
          "base_uri": "https://localhost:8080/"
        },
        "id": "ZsXf2eBCTkNT",
        "outputId": "e2301758-9aa9-44dc-938a-821b2b7f0ff7"
      },
      "execution_count": null,
      "outputs": [
        {
          "output_type": "execute_result",
          "data": {
            "text/plain": [
              "0.9326307866014302"
            ]
          },
          "metadata": {},
          "execution_count": 156
        }
      ]
    },
    {
      "cell_type": "code",
      "source": [
        "recall = recall_score(Y_test, y_pred_class)\n",
        "recall"
      ],
      "metadata": {
        "colab": {
          "base_uri": "https://localhost:8080/"
        },
        "id": "fUWjyGWmTkYq",
        "outputId": "650499c5-78b5-4cd4-e9c4-1f87e1a311a8"
      },
      "execution_count": null,
      "outputs": [
        {
          "output_type": "execute_result",
          "data": {
            "text/plain": [
              "0.8552200172562554"
            ]
          },
          "metadata": {},
          "execution_count": 157
        }
      ]
    },
    {
      "cell_type": "code",
      "source": [
        "f1 = f1_score(Y_test, y_pred_class)\n",
        "f1"
      ],
      "metadata": {
        "colab": {
          "base_uri": "https://localhost:8080/"
        },
        "id": "Df-TJbmhTkkS",
        "outputId": "8e88f4af-c65f-4d8e-961f-2b262af814af"
      },
      "execution_count": null,
      "outputs": [
        {
          "output_type": "execute_result",
          "data": {
            "text/plain": [
              "0.8922495274102079"
            ]
          },
          "metadata": {},
          "execution_count": 158
        }
      ]
    },
    {
      "cell_type": "code",
      "source": [
        "from sklearn.ensemble import RandomForestClassifier\n",
        "\n",
        "model2=RandomForestClassifier()\n",
        "\n",
        "model2.fit(X_train,Y_train)"
      ],
      "metadata": {
        "id": "Tdh447ev54Nx",
        "colab": {
          "base_uri": "https://localhost:8080/",
          "height": 80
        },
        "outputId": "8f15de29-d3a0-47b3-88b9-cfd96eb0c7f8"
      },
      "execution_count": null,
      "outputs": [
        {
          "output_type": "execute_result",
          "data": {
            "text/plain": [
              "RandomForestClassifier()"
            ],
            "text/html": [
              "<style>#sk-container-id-11 {\n",
              "  /* Definition of color scheme common for light and dark mode */\n",
              "  --sklearn-color-text: #000;\n",
              "  --sklearn-color-text-muted: #666;\n",
              "  --sklearn-color-line: gray;\n",
              "  /* Definition of color scheme for unfitted estimators */\n",
              "  --sklearn-color-unfitted-level-0: #fff5e6;\n",
              "  --sklearn-color-unfitted-level-1: #f6e4d2;\n",
              "  --sklearn-color-unfitted-level-2: #ffe0b3;\n",
              "  --sklearn-color-unfitted-level-3: chocolate;\n",
              "  /* Definition of color scheme for fitted estimators */\n",
              "  --sklearn-color-fitted-level-0: #f0f8ff;\n",
              "  --sklearn-color-fitted-level-1: #d4ebff;\n",
              "  --sklearn-color-fitted-level-2: #b3dbfd;\n",
              "  --sklearn-color-fitted-level-3: cornflowerblue;\n",
              "\n",
              "  /* Specific color for light theme */\n",
              "  --sklearn-color-text-on-default-background: var(--sg-text-color, var(--theme-code-foreground, var(--jp-content-font-color1, black)));\n",
              "  --sklearn-color-background: var(--sg-background-color, var(--theme-background, var(--jp-layout-color0, white)));\n",
              "  --sklearn-color-border-box: var(--sg-text-color, var(--theme-code-foreground, var(--jp-content-font-color1, black)));\n",
              "  --sklearn-color-icon: #696969;\n",
              "\n",
              "  @media (prefers-color-scheme: dark) {\n",
              "    /* Redefinition of color scheme for dark theme */\n",
              "    --sklearn-color-text-on-default-background: var(--sg-text-color, var(--theme-code-foreground, var(--jp-content-font-color1, white)));\n",
              "    --sklearn-color-background: var(--sg-background-color, var(--theme-background, var(--jp-layout-color0, #111)));\n",
              "    --sklearn-color-border-box: var(--sg-text-color, var(--theme-code-foreground, var(--jp-content-font-color1, white)));\n",
              "    --sklearn-color-icon: #878787;\n",
              "  }\n",
              "}\n",
              "\n",
              "#sk-container-id-11 {\n",
              "  color: var(--sklearn-color-text);\n",
              "}\n",
              "\n",
              "#sk-container-id-11 pre {\n",
              "  padding: 0;\n",
              "}\n",
              "\n",
              "#sk-container-id-11 input.sk-hidden--visually {\n",
              "  border: 0;\n",
              "  clip: rect(1px 1px 1px 1px);\n",
              "  clip: rect(1px, 1px, 1px, 1px);\n",
              "  height: 1px;\n",
              "  margin: -1px;\n",
              "  overflow: hidden;\n",
              "  padding: 0;\n",
              "  position: absolute;\n",
              "  width: 1px;\n",
              "}\n",
              "\n",
              "#sk-container-id-11 div.sk-dashed-wrapped {\n",
              "  border: 1px dashed var(--sklearn-color-line);\n",
              "  margin: 0 0.4em 0.5em 0.4em;\n",
              "  box-sizing: border-box;\n",
              "  padding-bottom: 0.4em;\n",
              "  background-color: var(--sklearn-color-background);\n",
              "}\n",
              "\n",
              "#sk-container-id-11 div.sk-container {\n",
              "  /* jupyter's `normalize.less` sets `[hidden] { display: none; }`\n",
              "     but bootstrap.min.css set `[hidden] { display: none !important; }`\n",
              "     so we also need the `!important` here to be able to override the\n",
              "     default hidden behavior on the sphinx rendered scikit-learn.org.\n",
              "     See: https://github.com/scikit-learn/scikit-learn/issues/21755 */\n",
              "  display: inline-block !important;\n",
              "  position: relative;\n",
              "}\n",
              "\n",
              "#sk-container-id-11 div.sk-text-repr-fallback {\n",
              "  display: none;\n",
              "}\n",
              "\n",
              "div.sk-parallel-item,\n",
              "div.sk-serial,\n",
              "div.sk-item {\n",
              "  /* draw centered vertical line to link estimators */\n",
              "  background-image: linear-gradient(var(--sklearn-color-text-on-default-background), var(--sklearn-color-text-on-default-background));\n",
              "  background-size: 2px 100%;\n",
              "  background-repeat: no-repeat;\n",
              "  background-position: center center;\n",
              "}\n",
              "\n",
              "/* Parallel-specific style estimator block */\n",
              "\n",
              "#sk-container-id-11 div.sk-parallel-item::after {\n",
              "  content: \"\";\n",
              "  width: 100%;\n",
              "  border-bottom: 2px solid var(--sklearn-color-text-on-default-background);\n",
              "  flex-grow: 1;\n",
              "}\n",
              "\n",
              "#sk-container-id-11 div.sk-parallel {\n",
              "  display: flex;\n",
              "  align-items: stretch;\n",
              "  justify-content: center;\n",
              "  background-color: var(--sklearn-color-background);\n",
              "  position: relative;\n",
              "}\n",
              "\n",
              "#sk-container-id-11 div.sk-parallel-item {\n",
              "  display: flex;\n",
              "  flex-direction: column;\n",
              "}\n",
              "\n",
              "#sk-container-id-11 div.sk-parallel-item:first-child::after {\n",
              "  align-self: flex-end;\n",
              "  width: 50%;\n",
              "}\n",
              "\n",
              "#sk-container-id-11 div.sk-parallel-item:last-child::after {\n",
              "  align-self: flex-start;\n",
              "  width: 50%;\n",
              "}\n",
              "\n",
              "#sk-container-id-11 div.sk-parallel-item:only-child::after {\n",
              "  width: 0;\n",
              "}\n",
              "\n",
              "/* Serial-specific style estimator block */\n",
              "\n",
              "#sk-container-id-11 div.sk-serial {\n",
              "  display: flex;\n",
              "  flex-direction: column;\n",
              "  align-items: center;\n",
              "  background-color: var(--sklearn-color-background);\n",
              "  padding-right: 1em;\n",
              "  padding-left: 1em;\n",
              "}\n",
              "\n",
              "\n",
              "/* Toggleable style: style used for estimator/Pipeline/ColumnTransformer box that is\n",
              "clickable and can be expanded/collapsed.\n",
              "- Pipeline and ColumnTransformer use this feature and define the default style\n",
              "- Estimators will overwrite some part of the style using the `sk-estimator` class\n",
              "*/\n",
              "\n",
              "/* Pipeline and ColumnTransformer style (default) */\n",
              "\n",
              "#sk-container-id-11 div.sk-toggleable {\n",
              "  /* Default theme specific background. It is overwritten whether we have a\n",
              "  specific estimator or a Pipeline/ColumnTransformer */\n",
              "  background-color: var(--sklearn-color-background);\n",
              "}\n",
              "\n",
              "/* Toggleable label */\n",
              "#sk-container-id-11 label.sk-toggleable__label {\n",
              "  cursor: pointer;\n",
              "  display: flex;\n",
              "  width: 100%;\n",
              "  margin-bottom: 0;\n",
              "  padding: 0.5em;\n",
              "  box-sizing: border-box;\n",
              "  text-align: center;\n",
              "  align-items: start;\n",
              "  justify-content: space-between;\n",
              "  gap: 0.5em;\n",
              "}\n",
              "\n",
              "#sk-container-id-11 label.sk-toggleable__label .caption {\n",
              "  font-size: 0.6rem;\n",
              "  font-weight: lighter;\n",
              "  color: var(--sklearn-color-text-muted);\n",
              "}\n",
              "\n",
              "#sk-container-id-11 label.sk-toggleable__label-arrow:before {\n",
              "  /* Arrow on the left of the label */\n",
              "  content: \"▸\";\n",
              "  float: left;\n",
              "  margin-right: 0.25em;\n",
              "  color: var(--sklearn-color-icon);\n",
              "}\n",
              "\n",
              "#sk-container-id-11 label.sk-toggleable__label-arrow:hover:before {\n",
              "  color: var(--sklearn-color-text);\n",
              "}\n",
              "\n",
              "/* Toggleable content - dropdown */\n",
              "\n",
              "#sk-container-id-11 div.sk-toggleable__content {\n",
              "  max-height: 0;\n",
              "  max-width: 0;\n",
              "  overflow: hidden;\n",
              "  text-align: left;\n",
              "  /* unfitted */\n",
              "  background-color: var(--sklearn-color-unfitted-level-0);\n",
              "}\n",
              "\n",
              "#sk-container-id-11 div.sk-toggleable__content.fitted {\n",
              "  /* fitted */\n",
              "  background-color: var(--sklearn-color-fitted-level-0);\n",
              "}\n",
              "\n",
              "#sk-container-id-11 div.sk-toggleable__content pre {\n",
              "  margin: 0.2em;\n",
              "  border-radius: 0.25em;\n",
              "  color: var(--sklearn-color-text);\n",
              "  /* unfitted */\n",
              "  background-color: var(--sklearn-color-unfitted-level-0);\n",
              "}\n",
              "\n",
              "#sk-container-id-11 div.sk-toggleable__content.fitted pre {\n",
              "  /* unfitted */\n",
              "  background-color: var(--sklearn-color-fitted-level-0);\n",
              "}\n",
              "\n",
              "#sk-container-id-11 input.sk-toggleable__control:checked~div.sk-toggleable__content {\n",
              "  /* Expand drop-down */\n",
              "  max-height: 200px;\n",
              "  max-width: 100%;\n",
              "  overflow: auto;\n",
              "}\n",
              "\n",
              "#sk-container-id-11 input.sk-toggleable__control:checked~label.sk-toggleable__label-arrow:before {\n",
              "  content: \"▾\";\n",
              "}\n",
              "\n",
              "/* Pipeline/ColumnTransformer-specific style */\n",
              "\n",
              "#sk-container-id-11 div.sk-label input.sk-toggleable__control:checked~label.sk-toggleable__label {\n",
              "  color: var(--sklearn-color-text);\n",
              "  background-color: var(--sklearn-color-unfitted-level-2);\n",
              "}\n",
              "\n",
              "#sk-container-id-11 div.sk-label.fitted input.sk-toggleable__control:checked~label.sk-toggleable__label {\n",
              "  background-color: var(--sklearn-color-fitted-level-2);\n",
              "}\n",
              "\n",
              "/* Estimator-specific style */\n",
              "\n",
              "/* Colorize estimator box */\n",
              "#sk-container-id-11 div.sk-estimator input.sk-toggleable__control:checked~label.sk-toggleable__label {\n",
              "  /* unfitted */\n",
              "  background-color: var(--sklearn-color-unfitted-level-2);\n",
              "}\n",
              "\n",
              "#sk-container-id-11 div.sk-estimator.fitted input.sk-toggleable__control:checked~label.sk-toggleable__label {\n",
              "  /* fitted */\n",
              "  background-color: var(--sklearn-color-fitted-level-2);\n",
              "}\n",
              "\n",
              "#sk-container-id-11 div.sk-label label.sk-toggleable__label,\n",
              "#sk-container-id-11 div.sk-label label {\n",
              "  /* The background is the default theme color */\n",
              "  color: var(--sklearn-color-text-on-default-background);\n",
              "}\n",
              "\n",
              "/* On hover, darken the color of the background */\n",
              "#sk-container-id-11 div.sk-label:hover label.sk-toggleable__label {\n",
              "  color: var(--sklearn-color-text);\n",
              "  background-color: var(--sklearn-color-unfitted-level-2);\n",
              "}\n",
              "\n",
              "/* Label box, darken color on hover, fitted */\n",
              "#sk-container-id-11 div.sk-label.fitted:hover label.sk-toggleable__label.fitted {\n",
              "  color: var(--sklearn-color-text);\n",
              "  background-color: var(--sklearn-color-fitted-level-2);\n",
              "}\n",
              "\n",
              "/* Estimator label */\n",
              "\n",
              "#sk-container-id-11 div.sk-label label {\n",
              "  font-family: monospace;\n",
              "  font-weight: bold;\n",
              "  display: inline-block;\n",
              "  line-height: 1.2em;\n",
              "}\n",
              "\n",
              "#sk-container-id-11 div.sk-label-container {\n",
              "  text-align: center;\n",
              "}\n",
              "\n",
              "/* Estimator-specific */\n",
              "#sk-container-id-11 div.sk-estimator {\n",
              "  font-family: monospace;\n",
              "  border: 1px dotted var(--sklearn-color-border-box);\n",
              "  border-radius: 0.25em;\n",
              "  box-sizing: border-box;\n",
              "  margin-bottom: 0.5em;\n",
              "  /* unfitted */\n",
              "  background-color: var(--sklearn-color-unfitted-level-0);\n",
              "}\n",
              "\n",
              "#sk-container-id-11 div.sk-estimator.fitted {\n",
              "  /* fitted */\n",
              "  background-color: var(--sklearn-color-fitted-level-0);\n",
              "}\n",
              "\n",
              "/* on hover */\n",
              "#sk-container-id-11 div.sk-estimator:hover {\n",
              "  /* unfitted */\n",
              "  background-color: var(--sklearn-color-unfitted-level-2);\n",
              "}\n",
              "\n",
              "#sk-container-id-11 div.sk-estimator.fitted:hover {\n",
              "  /* fitted */\n",
              "  background-color: var(--sklearn-color-fitted-level-2);\n",
              "}\n",
              "\n",
              "/* Specification for estimator info (e.g. \"i\" and \"?\") */\n",
              "\n",
              "/* Common style for \"i\" and \"?\" */\n",
              "\n",
              ".sk-estimator-doc-link,\n",
              "a:link.sk-estimator-doc-link,\n",
              "a:visited.sk-estimator-doc-link {\n",
              "  float: right;\n",
              "  font-size: smaller;\n",
              "  line-height: 1em;\n",
              "  font-family: monospace;\n",
              "  background-color: var(--sklearn-color-background);\n",
              "  border-radius: 1em;\n",
              "  height: 1em;\n",
              "  width: 1em;\n",
              "  text-decoration: none !important;\n",
              "  margin-left: 0.5em;\n",
              "  text-align: center;\n",
              "  /* unfitted */\n",
              "  border: var(--sklearn-color-unfitted-level-1) 1pt solid;\n",
              "  color: var(--sklearn-color-unfitted-level-1);\n",
              "}\n",
              "\n",
              ".sk-estimator-doc-link.fitted,\n",
              "a:link.sk-estimator-doc-link.fitted,\n",
              "a:visited.sk-estimator-doc-link.fitted {\n",
              "  /* fitted */\n",
              "  border: var(--sklearn-color-fitted-level-1) 1pt solid;\n",
              "  color: var(--sklearn-color-fitted-level-1);\n",
              "}\n",
              "\n",
              "/* On hover */\n",
              "div.sk-estimator:hover .sk-estimator-doc-link:hover,\n",
              ".sk-estimator-doc-link:hover,\n",
              "div.sk-label-container:hover .sk-estimator-doc-link:hover,\n",
              ".sk-estimator-doc-link:hover {\n",
              "  /* unfitted */\n",
              "  background-color: var(--sklearn-color-unfitted-level-3);\n",
              "  color: var(--sklearn-color-background);\n",
              "  text-decoration: none;\n",
              "}\n",
              "\n",
              "div.sk-estimator.fitted:hover .sk-estimator-doc-link.fitted:hover,\n",
              ".sk-estimator-doc-link.fitted:hover,\n",
              "div.sk-label-container:hover .sk-estimator-doc-link.fitted:hover,\n",
              ".sk-estimator-doc-link.fitted:hover {\n",
              "  /* fitted */\n",
              "  background-color: var(--sklearn-color-fitted-level-3);\n",
              "  color: var(--sklearn-color-background);\n",
              "  text-decoration: none;\n",
              "}\n",
              "\n",
              "/* Span, style for the box shown on hovering the info icon */\n",
              ".sk-estimator-doc-link span {\n",
              "  display: none;\n",
              "  z-index: 9999;\n",
              "  position: relative;\n",
              "  font-weight: normal;\n",
              "  right: .2ex;\n",
              "  padding: .5ex;\n",
              "  margin: .5ex;\n",
              "  width: min-content;\n",
              "  min-width: 20ex;\n",
              "  max-width: 50ex;\n",
              "  color: var(--sklearn-color-text);\n",
              "  box-shadow: 2pt 2pt 4pt #999;\n",
              "  /* unfitted */\n",
              "  background: var(--sklearn-color-unfitted-level-0);\n",
              "  border: .5pt solid var(--sklearn-color-unfitted-level-3);\n",
              "}\n",
              "\n",
              ".sk-estimator-doc-link.fitted span {\n",
              "  /* fitted */\n",
              "  background: var(--sklearn-color-fitted-level-0);\n",
              "  border: var(--sklearn-color-fitted-level-3);\n",
              "}\n",
              "\n",
              ".sk-estimator-doc-link:hover span {\n",
              "  display: block;\n",
              "}\n",
              "\n",
              "/* \"?\"-specific style due to the `<a>` HTML tag */\n",
              "\n",
              "#sk-container-id-11 a.estimator_doc_link {\n",
              "  float: right;\n",
              "  font-size: 1rem;\n",
              "  line-height: 1em;\n",
              "  font-family: monospace;\n",
              "  background-color: var(--sklearn-color-background);\n",
              "  border-radius: 1rem;\n",
              "  height: 1rem;\n",
              "  width: 1rem;\n",
              "  text-decoration: none;\n",
              "  /* unfitted */\n",
              "  color: var(--sklearn-color-unfitted-level-1);\n",
              "  border: var(--sklearn-color-unfitted-level-1) 1pt solid;\n",
              "}\n",
              "\n",
              "#sk-container-id-11 a.estimator_doc_link.fitted {\n",
              "  /* fitted */\n",
              "  border: var(--sklearn-color-fitted-level-1) 1pt solid;\n",
              "  color: var(--sklearn-color-fitted-level-1);\n",
              "}\n",
              "\n",
              "/* On hover */\n",
              "#sk-container-id-11 a.estimator_doc_link:hover {\n",
              "  /* unfitted */\n",
              "  background-color: var(--sklearn-color-unfitted-level-3);\n",
              "  color: var(--sklearn-color-background);\n",
              "  text-decoration: none;\n",
              "}\n",
              "\n",
              "#sk-container-id-11 a.estimator_doc_link.fitted:hover {\n",
              "  /* fitted */\n",
              "  background-color: var(--sklearn-color-fitted-level-3);\n",
              "}\n",
              "</style><div id=\"sk-container-id-11\" class=\"sk-top-container\"><div class=\"sk-text-repr-fallback\"><pre>RandomForestClassifier()</pre><b>In a Jupyter environment, please rerun this cell to show the HTML representation or trust the notebook. <br />On GitHub, the HTML representation is unable to render, please try loading this page with nbviewer.org.</b></div><div class=\"sk-container\" hidden><div class=\"sk-item\"><div class=\"sk-estimator fitted sk-toggleable\"><input class=\"sk-toggleable__control sk-hidden--visually\" id=\"sk-estimator-id-11\" type=\"checkbox\" checked><label for=\"sk-estimator-id-11\" class=\"sk-toggleable__label fitted sk-toggleable__label-arrow\"><div><div>RandomForestClassifier</div></div><div><a class=\"sk-estimator-doc-link fitted\" rel=\"noreferrer\" target=\"_blank\" href=\"https://scikit-learn.org/1.6/modules/generated/sklearn.ensemble.RandomForestClassifier.html\">?<span>Documentation for RandomForestClassifier</span></a><span class=\"sk-estimator-doc-link fitted\">i<span>Fitted</span></span></div></label><div class=\"sk-toggleable__content fitted\"><pre>RandomForestClassifier()</pre></div> </div></div></div></div>"
            ]
          },
          "metadata": {},
          "execution_count": 159
        }
      ]
    },
    {
      "cell_type": "code",
      "source": [
        "y_pred=model2.predict(X_test)"
      ],
      "metadata": {
        "id": "emzIR-KA57jG"
      },
      "execution_count": null,
      "outputs": []
    },
    {
      "cell_type": "code",
      "source": [
        "# Predict the probabilities (for binary classification, it returns two values per instance)\n",
        "y_pred_prob = model2.predict_proba(X_test)[:, 1]  # Get probabilities for class '1'\n",
        "\n",
        "# Convert probabilities to class labels (0 or 1)\n",
        "y_pred_class = (y_pred_prob > 0.5).astype(int)  # Apply threshold of 0.5 to get 0 or 1\n",
        "\n",
        "# Calculate accuracy by comparing predicted labels to actual labels (Y_test)\n",
        "accuracy = accuracy_score(Y_test, y_pred_class)\n",
        "\n",
        "# Print the accuracy\n",
        "print(f\"Accuracy: {accuracy * 100:.2f}%\")\n"
      ],
      "metadata": {
        "id": "0w135kOTCbGO",
        "colab": {
          "base_uri": "https://localhost:8080/"
        },
        "outputId": "a85ded10-2d97-491a-b04c-457acc8c2d4f"
      },
      "execution_count": null,
      "outputs": [
        {
          "output_type": "stream",
          "name": "stdout",
          "text": [
            "Accuracy: 96.39%\n"
          ]
        }
      ]
    },
    {
      "cell_type": "code",
      "source": [
        "precision = precision_score(Y_test, y_pred_class)\n",
        "precision"
      ],
      "metadata": {
        "colab": {
          "base_uri": "https://localhost:8080/"
        },
        "id": "5ymZPDSsQQbO",
        "outputId": "6e0c9c30-edb8-4c49-b5ec-8db30e762c9c"
      },
      "execution_count": null,
      "outputs": [
        {
          "output_type": "execute_result",
          "data": {
            "text/plain": [
              "0.9405535946498235"
            ]
          },
          "metadata": {},
          "execution_count": 162
        }
      ]
    },
    {
      "cell_type": "code",
      "source": [
        "recall = recall_score(Y_test, y_pred_class)\n",
        "recall"
      ],
      "metadata": {
        "colab": {
          "base_uri": "https://localhost:8080/"
        },
        "id": "SSnHpoYuS0Lz",
        "outputId": "8747a905-f5e5-454c-c22d-e01aec5f1167"
      },
      "execution_count": null,
      "outputs": [
        {
          "output_type": "execute_result",
          "data": {
            "text/plain": [
              "0.8736842105263158"
            ]
          },
          "metadata": {},
          "execution_count": 163
        }
      ]
    },
    {
      "cell_type": "code",
      "source": [
        "f1 = f1_score(Y_test, y_pred_class)\n",
        "f1"
      ],
      "metadata": {
        "colab": {
          "base_uri": "https://localhost:8080/"
        },
        "id": "XgFWuWFhS6An",
        "outputId": "d36c91a3-c95c-482c-a4a5-027d73bab5d3"
      },
      "execution_count": null,
      "outputs": [
        {
          "output_type": "execute_result",
          "data": {
            "text/plain": [
              "0.9058865628913938"
            ]
          },
          "metadata": {},
          "execution_count": 164
        }
      ]
    },
    {
      "cell_type": "code",
      "source": [
        "from sklearn.metrics import roc_auc_score, roc_curve\n",
        "import matplotlib.pyplot as plt\n",
        "\n",
        "# Assuming you have already trained your model and have X_test, Y_test, and model1 is the trained model\n",
        "\n",
        "# Step 1: Get the predicted probabilities for the positive class (class 1)\n",
        "# For binary classification, `predict_proba()` returns probabilities for both classes (0 and 1).\n",
        "# We select the probabilities for class 1 (the second column, hence [:, 1]).\n",
        "y_pred_prob = model1.predict_proba(X_test)[:, 1]\n",
        "\n",
        "# Step 2: Calculate the AUC-ROC score\n",
        "auc_roc = roc_auc_score(Y_test, y_pred_prob)\n",
        "\n",
        "# Print the AUC-ROC score\n",
        "print(f\"AUC-ROC: {auc_roc:.2f}\")\n",
        "\n",
        "# Step 3: Plot the ROC curve\n",
        "fpr, tpr, thresholds = roc_curve(Y_test, y_pred_prob)\n",
        "\n",
        "# Plotting the ROC curve\n",
        "plt.figure(figsize=(8, 6))\n",
        "plt.plot(fpr, tpr, label=f'ROC Curve (AUC = {auc_roc:.2f})')\n",
        "plt.plot([0, 1], [0, 1], linestyle='--', color='gray')  # Diagonal line representing random classifier\n",
        "plt.xlabel('False Positive Rate')\n",
        "plt.ylabel('True Positive Rate')\n",
        "plt.title('Receiver Operating Characteristic (ROC) Curve')\n",
        "plt.legend(loc='lower right')\n",
        "plt.show()\n"
      ],
      "metadata": {
        "colab": {
          "base_uri": "https://localhost:8080/",
          "height": 581
        },
        "id": "Uy_CaZf8S-nM",
        "outputId": "a8c40d60-f6a6-4f53-d828-2602042bad22"
      },
      "execution_count": null,
      "outputs": [
        {
          "output_type": "stream",
          "name": "stdout",
          "text": [
            "AUC-ROC: 0.99\n"
          ]
        },
        {
          "output_type": "display_data",
          "data": {
            "text/plain": [
              "<Figure size 800x600 with 1 Axes>"
            ],
            "image/png": "[encoded data removed]"
          },
          "metadata": {}
        }
      ]
    },
    {
      "cell_type": "markdown",
      "source": [],
      "metadata": {
        "id": "92Gv3YhJVQvR"
      }
    },
    {
      "cell_type": "code",
      "source": [],
      "metadata": {
        "id": "01FIg3n4VWgS"
      },
      "execution_count": null,
      "outputs": []
    }
  ],
  "metadata": {
    "colab": {
      "provenance": [],
      "authorship_tag": "ABX9TyNP2tDf0eRb0vWjC/ymX9vl",
      "include_colab_link": true
    },
    "kernelspec": {
      "display_name": "Python 3",
      "name": "python3"
    },
    "language_info": {
      "name": "python"
    }
  },
  "nbformat": 4,
  "nbformat_minor": 0
}